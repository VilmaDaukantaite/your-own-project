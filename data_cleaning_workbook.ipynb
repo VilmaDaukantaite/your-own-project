{
 "cells": [
  {
   "cell_type": "markdown",
   "metadata": {},
   "source": [
    "### Findings from the data bellow:\n",
    "* increasing average age at first marriage does not seem to decrease the rate of divorce\n",
    "* there are significant differences in average age at first marriage between Eastern Europe/ Balkans and the rest of Europe (supported by two sample test). Most likely influenced by exposure to Comunist ideology and cultural differences. So even though the average age has been increasing at a similar pace in all regions but the starting age in the Eastern block has been lower.\n",
    "* divorce rate seem to be moving towards the 2.5/1000 accross Europe while the marriage rate has been dicreasing slightly and stabilizing at around 6/1000. So we are at 2:1 marriage - divorce ratio.\n",
    "* Average length of marriage has been increasing and in 2017 stands at 16.6 year in Spain\n",
    "* in Cyprus there has been a big jump in the amount of marriages 1995-2003. From what I was able to find there was an increase of brides from post sovietic countries. and in 2003 there was a new law for marriages released that might have dicreased the popularity of Cyprus for marriages.\n",
    "* in Spain there has been a big jump in divorces pre-2008 crisis. Possibly because of divorce being expensive, during the crisis it went down slightly, but stayed higher than in the beginning of the millenium\n",
    "* no important differences between Lithuania and Spain have been observed in the breakdown of marriages based on previous marrital status\n",
    "* higher probability of getting seem to be in the beginning of the marriage. In Spain 33% of couples get divorced withing first 10 year (in Lithuania this number jumps to almos 43%). The longer couple stays together, the less likely they are to get divorced.\n",
    "* there seems to be the tendency of lower divorce rates for households with 2 or more kids comparing to the total household structure in Spain\n",
    "* a lot of further analysis should be done for any definitive conclusions.\n"
   ]
  },
  {
   "cell_type": "code",
   "execution_count": 1361,
   "metadata": {},
   "outputs": [],
   "source": [
    "# importing needed libraries\n",
    "\n",
    "import pandas as pd\n",
    "import numpy as np\n",
    "import matplotlib.pyplot as plt\n",
    "import seaborn as sns\n",
    "%matplotlib inline\n",
    "import scipy.stats as st"
   ]
  },
  {
   "cell_type": "code",
   "execution_count": 1293,
   "metadata": {},
   "outputs": [],
   "source": [
    "#importing and cleaning Eurostat information on mean age at first marriage\n",
    "\n",
    "eu_mean_age_marriages = pd.read_excel(\"./sources/Eurostat_mean_age.xls\", header = 3, indexcol=0, skipfooter = 5)\n",
    "cols = eu_mean_age_marriages.columns.drop(['Country',\"Sex\", \"Region\"])\n",
    "eu_mean_age_marriages[cols] = eu_mean_age_marriages[cols].apply(pd.to_numeric, errors='coerce')\n"
   ]
  },
  {
   "cell_type": "code",
   "execution_count": 1294,
   "metadata": {},
   "outputs": [],
   "source": [
    "# Selecting South Europe region for testing\n",
    "eu_south = eu_mean_age_marriages[eu_mean_age_marriages.Region == \"South Europe\"]\n",
    "eu_south.set_index([\"Region\",\"Country\", \"Sex\"], inplace = True)\n",
    "eu_south = eu_south.interpolate(axis=1)\n",
    "eu_south_new = eu_south.reset_index()"
   ]
  },
  {
   "cell_type": "code",
   "execution_count": 1295,
   "metadata": {},
   "outputs": [],
   "source": [
    "# Selecting Eastern Europe region for testing\n",
    "eastern = eu_mean_age_marriages[eu_mean_age_marriages.Region == \"Eastern Europe\"]\n",
    "eastern.set_index([\"Region\",\"Country\", \"Sex\"], inplace = True)\n",
    "eastern = eastern.interpolate(axis=1)\n",
    "eastern_new = eastern.reset_index()\n"
   ]
  },
  {
   "cell_type": "code",
   "execution_count": 1296,
   "metadata": {},
   "outputs": [
    {
     "data": {
      "text/plain": [
       "31.32777777777778"
      ]
     },
     "execution_count": 1296,
     "metadata": {},
     "output_type": "execute_result"
    }
   ],
   "source": [
    "# calculating mean age at first marriage for Europe and selecting 2017\n",
    "eu_mean_age_marriages.mean()[\"2017\"]"
   ]
  },
  {
   "cell_type": "code",
   "execution_count": 1297,
   "metadata": {},
   "outputs": [
    {
     "data": {
      "text/plain": [
       "(array([28.40425299]), array([30.42537664]))"
      ]
     },
     "execution_count": 1297,
     "metadata": {},
     "output_type": "execute_result"
    }
   ],
   "source": [
    "# confidence interval for mena age of eastern europe at 95% confidence level\n",
    "# not valid\n",
    "st.t.interval(0.95, 26, loc=eastern.groupby(\"Region\").mean()[\"2017\"], scale=st.sem(eastern[\"2017\"]))"
   ]
  },
  {
   "cell_type": "code",
   "execution_count": 1298,
   "metadata": {},
   "outputs": [
    {
     "data": {
      "text/plain": [
       "Ttest_1sampResult(statistic=-3.8910550378534747, pvalue=0.0006207385212685326)"
      ]
     },
     "execution_count": 1298,
     "metadata": {},
     "output_type": "execute_result"
    }
   ],
   "source": [
    "# t test for Easter Europe\n",
    "# not valid\n",
    "#H0 Mean age at first marriage in eastern europe is the same as the average of Europe\n",
    "#H1 Mean age is differrent\n",
    "st.ttest_1samp(eastern[\"2017\"], eu_mean_age_marriages[\"2017\"].mean())"
   ]
  },
  {
   "cell_type": "code",
   "execution_count": 1299,
   "metadata": {},
   "outputs": [
    {
     "data": {
      "text/plain": [
       "(array([31.29812945]), array([33.70187055]))"
      ]
     },
     "execution_count": 1299,
     "metadata": {},
     "output_type": "execute_result"
    }
   ],
   "source": [
    "# confidence level for South Europe\n",
    "# not valid\n",
    "st.t.interval(0.95, 11, loc=eu_south.groupby(\"Region\").mean()[\"2017\"], scale=st.sem(eu_south[\"2017\"]))"
   ]
  },
  {
   "cell_type": "code",
   "execution_count": 1300,
   "metadata": {},
   "outputs": [
    {
     "data": {
      "text/plain": [
       "Ttest_1sampResult(statistic=2.146690186402941, pvalue=0.05496239177090468)"
      ]
     },
     "execution_count": 1300,
     "metadata": {},
     "output_type": "execute_result"
    }
   ],
   "source": [
    "# t test for South Europe\n",
    "# not valid\n",
    "\n",
    "st.ttest_1samp(eu_south[\"2017\"], eu_mean_age_marriages[\"2017\"].mean())"
   ]
  },
  {
   "cell_type": "code",
   "execution_count": 1301,
   "metadata": {},
   "outputs": [
    {
     "data": {
      "text/plain": [
       "Ttest_relResult(statistic=array([-44.07762195]), pvalue=array([1.00045628e-13]))"
      ]
     },
     "execution_count": 1301,
     "metadata": {},
     "output_type": "execute_result"
    }
   ],
   "source": [
    "#running a t test for 2 sample analysis\n",
    "\n",
    "#H0 Average marrying age of Easter Europe is same is in South Europe\n",
    "#H1 Average marrying age is different \n",
    "from scipy.stats import ttest_rel\n",
    "ttest_rel(eastern.groupby(\"Region\").mean().T, eu_south.groupby(\"Region\").mean().T)\n",
    "\n",
    "# P value is very small so H0 can be rejected and the difference \n",
    "# in average ages is signficantly smaller based on statistics"
   ]
  },
  {
   "cell_type": "code",
   "execution_count": 1302,
   "metadata": {},
   "outputs": [
    {
     "data": {
      "text/html": [
       "<div>\n",
       "<style scoped>\n",
       "    .dataframe tbody tr th:only-of-type {\n",
       "        vertical-align: middle;\n",
       "    }\n",
       "\n",
       "    .dataframe tbody tr th {\n",
       "        vertical-align: top;\n",
       "    }\n",
       "\n",
       "    .dataframe thead th {\n",
       "        text-align: right;\n",
       "    }\n",
       "</style>\n",
       "<table border=\"1\" class=\"dataframe\">\n",
       "  <thead>\n",
       "    <tr style=\"text-align: right;\">\n",
       "      <th></th>\n",
       "      <th></th>\n",
       "      <th>2006</th>\n",
       "      <th>2007</th>\n",
       "      <th>2008</th>\n",
       "      <th>2009</th>\n",
       "      <th>2010</th>\n",
       "      <th>2011</th>\n",
       "      <th>2012</th>\n",
       "      <th>2013</th>\n",
       "      <th>2014</th>\n",
       "      <th>2015</th>\n",
       "      <th>2016</th>\n",
       "      <th>2017</th>\n",
       "    </tr>\n",
       "    <tr>\n",
       "      <th>Region</th>\n",
       "      <th>Sex</th>\n",
       "      <th></th>\n",
       "      <th></th>\n",
       "      <th></th>\n",
       "      <th></th>\n",
       "      <th></th>\n",
       "      <th></th>\n",
       "      <th></th>\n",
       "      <th></th>\n",
       "      <th></th>\n",
       "      <th></th>\n",
       "      <th></th>\n",
       "      <th></th>\n",
       "    </tr>\n",
       "  </thead>\n",
       "  <tbody>\n",
       "    <tr>\n",
       "      <th rowspan=\"2\" valign=\"top\">Balkans</th>\n",
       "      <th>Female</th>\n",
       "      <td>26.300000</td>\n",
       "      <td>26.225000</td>\n",
       "      <td>26.150000</td>\n",
       "      <td>26.450000</td>\n",
       "      <td>26.612500</td>\n",
       "      <td>26.825000</td>\n",
       "      <td>27.037500</td>\n",
       "      <td>27.350000</td>\n",
       "      <td>27.525000</td>\n",
       "      <td>27.475000</td>\n",
       "      <td>27.600000</td>\n",
       "      <td>27.700000</td>\n",
       "    </tr>\n",
       "    <tr>\n",
       "      <th>Male</th>\n",
       "      <td>29.450000</td>\n",
       "      <td>29.500000</td>\n",
       "      <td>29.650000</td>\n",
       "      <td>29.925000</td>\n",
       "      <td>30.050000</td>\n",
       "      <td>30.275000</td>\n",
       "      <td>30.475000</td>\n",
       "      <td>30.775000</td>\n",
       "      <td>30.800000</td>\n",
       "      <td>30.662500</td>\n",
       "      <td>30.850000</td>\n",
       "      <td>30.125000</td>\n",
       "    </tr>\n",
       "    <tr>\n",
       "      <th rowspan=\"2\" valign=\"top\">Central Europe</th>\n",
       "      <th>Female</th>\n",
       "      <td>29.350000</td>\n",
       "      <td>29.516667</td>\n",
       "      <td>29.791667</td>\n",
       "      <td>29.916667</td>\n",
       "      <td>30.083333</td>\n",
       "      <td>30.270635</td>\n",
       "      <td>30.332937</td>\n",
       "      <td>30.428571</td>\n",
       "      <td>30.538095</td>\n",
       "      <td>31.114286</td>\n",
       "      <td>31.190476</td>\n",
       "      <td>31.300000</td>\n",
       "    </tr>\n",
       "    <tr>\n",
       "      <th>Male</th>\n",
       "      <td>31.783333</td>\n",
       "      <td>31.966667</td>\n",
       "      <td>32.216667</td>\n",
       "      <td>32.383333</td>\n",
       "      <td>32.483333</td>\n",
       "      <td>32.665079</td>\n",
       "      <td>32.763492</td>\n",
       "      <td>32.878571</td>\n",
       "      <td>32.838095</td>\n",
       "      <td>33.514286</td>\n",
       "      <td>33.490476</td>\n",
       "      <td>33.666667</td>\n",
       "    </tr>\n",
       "    <tr>\n",
       "      <th rowspan=\"2\" valign=\"top\">Eastern Europe</th>\n",
       "      <th>Female</th>\n",
       "      <td>25.962500</td>\n",
       "      <td>26.216406</td>\n",
       "      <td>26.320312</td>\n",
       "      <td>26.524219</td>\n",
       "      <td>26.755417</td>\n",
       "      <td>26.949115</td>\n",
       "      <td>27.136563</td>\n",
       "      <td>27.335260</td>\n",
       "      <td>27.546458</td>\n",
       "      <td>27.640000</td>\n",
       "      <td>27.788750</td>\n",
       "      <td>27.900000</td>\n",
       "    </tr>\n",
       "    <tr>\n",
       "      <th>Male</th>\n",
       "      <td>29.318182</td>\n",
       "      <td>29.609091</td>\n",
       "      <td>29.709091</td>\n",
       "      <td>29.954545</td>\n",
       "      <td>30.200000</td>\n",
       "      <td>30.450000</td>\n",
       "      <td>30.636364</td>\n",
       "      <td>30.836364</td>\n",
       "      <td>31.054545</td>\n",
       "      <td>31.145455</td>\n",
       "      <td>31.409091</td>\n",
       "      <td>31.618182</td>\n",
       "    </tr>\n",
       "    <tr>\n",
       "      <th rowspan=\"2\" valign=\"top\">Nordic</th>\n",
       "      <th>Female</th>\n",
       "      <td>30.575000</td>\n",
       "      <td>30.875000</td>\n",
       "      <td>31.175000</td>\n",
       "      <td>31.075000</td>\n",
       "      <td>31.225000</td>\n",
       "      <td>31.475000</td>\n",
       "      <td>31.800000</td>\n",
       "      <td>31.700000</td>\n",
       "      <td>31.850000</td>\n",
       "      <td>32.100000</td>\n",
       "      <td>32.300000</td>\n",
       "      <td>32.525000</td>\n",
       "    </tr>\n",
       "    <tr>\n",
       "      <th>Male</th>\n",
       "      <td>33.175000</td>\n",
       "      <td>33.450000</td>\n",
       "      <td>33.775000</td>\n",
       "      <td>33.625000</td>\n",
       "      <td>33.850000</td>\n",
       "      <td>33.975000</td>\n",
       "      <td>34.325000</td>\n",
       "      <td>34.275000</td>\n",
       "      <td>34.375000</td>\n",
       "      <td>34.625000</td>\n",
       "      <td>34.900000</td>\n",
       "      <td>35.075000</td>\n",
       "    </tr>\n",
       "    <tr>\n",
       "      <th rowspan=\"2\" valign=\"top\">South Europe</th>\n",
       "      <th>Female</th>\n",
       "      <td>28.583333</td>\n",
       "      <td>28.816667</td>\n",
       "      <td>29.050000</td>\n",
       "      <td>29.300000</td>\n",
       "      <td>29.583333</td>\n",
       "      <td>29.866667</td>\n",
       "      <td>30.125000</td>\n",
       "      <td>30.500000</td>\n",
       "      <td>30.766667</td>\n",
       "      <td>31.000000</td>\n",
       "      <td>31.133333</td>\n",
       "      <td>31.300000</td>\n",
       "    </tr>\n",
       "    <tr>\n",
       "      <th>Male</th>\n",
       "      <td>31.233333</td>\n",
       "      <td>31.350000</td>\n",
       "      <td>31.616667</td>\n",
       "      <td>31.866667</td>\n",
       "      <td>32.150000</td>\n",
       "      <td>32.383333</td>\n",
       "      <td>32.633333</td>\n",
       "      <td>32.991667</td>\n",
       "      <td>33.200000</td>\n",
       "      <td>33.408333</td>\n",
       "      <td>33.533333</td>\n",
       "      <td>33.700000</td>\n",
       "    </tr>\n",
       "  </tbody>\n",
       "</table>\n",
       "</div>"
      ],
      "text/plain": [
       "                            2006       2007       2008       2009       2010  \\\n",
       "Region         Sex                                                             \n",
       "Balkans        Female  26.300000  26.225000  26.150000  26.450000  26.612500   \n",
       "               Male    29.450000  29.500000  29.650000  29.925000  30.050000   \n",
       "Central Europe Female  29.350000  29.516667  29.791667  29.916667  30.083333   \n",
       "               Male    31.783333  31.966667  32.216667  32.383333  32.483333   \n",
       "Eastern Europe Female  25.962500  26.216406  26.320312  26.524219  26.755417   \n",
       "               Male    29.318182  29.609091  29.709091  29.954545  30.200000   \n",
       "Nordic         Female  30.575000  30.875000  31.175000  31.075000  31.225000   \n",
       "               Male    33.175000  33.450000  33.775000  33.625000  33.850000   \n",
       "South Europe   Female  28.583333  28.816667  29.050000  29.300000  29.583333   \n",
       "               Male    31.233333  31.350000  31.616667  31.866667  32.150000   \n",
       "\n",
       "                            2011       2012       2013       2014       2015  \\\n",
       "Region         Sex                                                             \n",
       "Balkans        Female  26.825000  27.037500  27.350000  27.525000  27.475000   \n",
       "               Male    30.275000  30.475000  30.775000  30.800000  30.662500   \n",
       "Central Europe Female  30.270635  30.332937  30.428571  30.538095  31.114286   \n",
       "               Male    32.665079  32.763492  32.878571  32.838095  33.514286   \n",
       "Eastern Europe Female  26.949115  27.136563  27.335260  27.546458  27.640000   \n",
       "               Male    30.450000  30.636364  30.836364  31.054545  31.145455   \n",
       "Nordic         Female  31.475000  31.800000  31.700000  31.850000  32.100000   \n",
       "               Male    33.975000  34.325000  34.275000  34.375000  34.625000   \n",
       "South Europe   Female  29.866667  30.125000  30.500000  30.766667  31.000000   \n",
       "               Male    32.383333  32.633333  32.991667  33.200000  33.408333   \n",
       "\n",
       "                            2016       2017  \n",
       "Region         Sex                           \n",
       "Balkans        Female  27.600000  27.700000  \n",
       "               Male    30.850000  30.125000  \n",
       "Central Europe Female  31.190476  31.300000  \n",
       "               Male    33.490476  33.666667  \n",
       "Eastern Europe Female  27.788750  27.900000  \n",
       "               Male    31.409091  31.618182  \n",
       "Nordic         Female  32.300000  32.525000  \n",
       "               Male    34.900000  35.075000  \n",
       "South Europe   Female  31.133333  31.300000  \n",
       "               Male    33.533333  33.700000  "
      ]
     },
     "execution_count": 1302,
     "metadata": {},
     "output_type": "execute_result"
    }
   ],
   "source": [
    "# calculating means for regions by gender\n",
    "eu_mean_age_marriages.set_index([\"Region\",\"Country\", \"Sex\"], inplace = True)\n",
    "eu_mean_age_marriages = eu_mean_age_marriages.interpolate(axis=1)\n",
    "eu_mean_age_marriages.groupby([\"Region\", \"Sex\"]).mean()"
   ]
  },
  {
   "cell_type": "code",
   "execution_count": 1303,
   "metadata": {},
   "outputs": [],
   "source": [
    "mean_eu = eu_mean_age_marriages.groupby(\"Region\").mean().T"
   ]
  },
  {
   "cell_type": "code",
   "execution_count": 1304,
   "metadata": {},
   "outputs": [
    {
     "data": {
      "text/plain": [
       "Text(0.5, 0, 'Year')"
      ]
     },
     "execution_count": 1304,
     "metadata": {},
     "output_type": "execute_result"
    },
    {
     "data": {
      "image/png": "[encoded data removed]",
      "text/plain": [
       "<Figure size 864x648 with 1 Axes>"
      ]
     },
     "metadata": {
      "needs_background": "light"
     },
     "output_type": "display_data"
    }
   ],
   "source": [
    "#plot of regions\n",
    "fig, ax = plt.subplots(figsize=(12,9))\n",
    "sns.lineplot(ax=ax, data = mean_eu).set_title(\"Average age at first marriage by region (2006-2017)\", fontsize = 24)\n",
    "ax.set_ylabel(\"Average age\", fontsize = 15)\n",
    "ax.set_xlabel(\"Year\", fontsize = 15)"
   ]
  },
  {
   "cell_type": "code",
   "execution_count": 1309,
   "metadata": {},
   "outputs": [
    {
     "data": {
      "text/html": [
       "<div>\n",
       "<style scoped>\n",
       "    .dataframe tbody tr th:only-of-type {\n",
       "        vertical-align: middle;\n",
       "    }\n",
       "\n",
       "    .dataframe tbody tr th {\n",
       "        vertical-align: top;\n",
       "    }\n",
       "\n",
       "    .dataframe thead th {\n",
       "        text-align: right;\n",
       "    }\n",
       "</style>\n",
       "<table border=\"1\" class=\"dataframe\">\n",
       "  <thead>\n",
       "    <tr style=\"text-align: right;\">\n",
       "      <th></th>\n",
       "      <th>Country</th>\n",
       "      <th>Sex</th>\n",
       "      <th>2006</th>\n",
       "      <th>2007</th>\n",
       "      <th>2008</th>\n",
       "      <th>2009</th>\n",
       "      <th>2010</th>\n",
       "      <th>2011</th>\n",
       "      <th>2012</th>\n",
       "      <th>2013</th>\n",
       "      <th>2014</th>\n",
       "      <th>2015</th>\n",
       "      <th>2016</th>\n",
       "      <th>2017</th>\n",
       "    </tr>\n",
       "  </thead>\n",
       "  <tbody>\n",
       "    <tr>\n",
       "      <th>8</th>\n",
       "      <td>Spain</td>\n",
       "      <td>Female</td>\n",
       "      <td>29.6</td>\n",
       "      <td>29.8</td>\n",
       "      <td>30.1</td>\n",
       "      <td>30.5</td>\n",
       "      <td>30.9</td>\n",
       "      <td>31.3</td>\n",
       "      <td>31.60</td>\n",
       "      <td>32.2</td>\n",
       "      <td>32.3</td>\n",
       "      <td>32.7</td>\n",
       "      <td>33.0</td>\n",
       "      <td>33.2</td>\n",
       "    </tr>\n",
       "    <tr>\n",
       "      <th>13</th>\n",
       "      <td>Lithuania</td>\n",
       "      <td>Female</td>\n",
       "      <td>25.1</td>\n",
       "      <td>25.5</td>\n",
       "      <td>25.8</td>\n",
       "      <td>26.2</td>\n",
       "      <td>26.5</td>\n",
       "      <td>26.7</td>\n",
       "      <td>26.90</td>\n",
       "      <td>27.1</td>\n",
       "      <td>27.3</td>\n",
       "      <td>27.5</td>\n",
       "      <td>27.9</td>\n",
       "      <td>27.8</td>\n",
       "    </tr>\n",
       "    <tr>\n",
       "      <th>44</th>\n",
       "      <td>Spain</td>\n",
       "      <td>Male</td>\n",
       "      <td>31.8</td>\n",
       "      <td>32.0</td>\n",
       "      <td>32.3</td>\n",
       "      <td>32.7</td>\n",
       "      <td>33.1</td>\n",
       "      <td>33.4</td>\n",
       "      <td>33.70</td>\n",
       "      <td>34.4</td>\n",
       "      <td>34.5</td>\n",
       "      <td>34.9</td>\n",
       "      <td>35.1</td>\n",
       "      <td>35.4</td>\n",
       "    </tr>\n",
       "    <tr>\n",
       "      <th>49</th>\n",
       "      <td>Lithuania</td>\n",
       "      <td>Male</td>\n",
       "      <td>27.4</td>\n",
       "      <td>27.8</td>\n",
       "      <td>28.0</td>\n",
       "      <td>28.6</td>\n",
       "      <td>28.7</td>\n",
       "      <td>29.0</td>\n",
       "      <td>29.25</td>\n",
       "      <td>29.5</td>\n",
       "      <td>29.7</td>\n",
       "      <td>28.9</td>\n",
       "      <td>30.3</td>\n",
       "      <td>30.5</td>\n",
       "    </tr>\n",
       "  </tbody>\n",
       "</table>\n",
       "</div>"
      ],
      "text/plain": [
       "      Country     Sex  2006  2007  2008  2009  2010  2011   2012  2013  2014  \\\n",
       "8       Spain  Female  29.6  29.8  30.1  30.5  30.9  31.3  31.60  32.2  32.3   \n",
       "13  Lithuania  Female  25.1  25.5  25.8  26.2  26.5  26.7  26.90  27.1  27.3   \n",
       "44      Spain    Male  31.8  32.0  32.3  32.7  33.1  33.4  33.70  34.4  34.5   \n",
       "49  Lithuania    Male  27.4  27.8  28.0  28.6  28.7  29.0  29.25  29.5  29.7   \n",
       "\n",
       "    2015  2016  2017  \n",
       "8   32.7  33.0  33.2  \n",
       "13  27.5  27.9  27.8  \n",
       "44  34.9  35.1  35.4  \n",
       "49  28.9  30.3  30.5  "
      ]
     },
     "execution_count": 1309,
     "metadata": {},
     "output_type": "execute_result"
    }
   ],
   "source": [
    "#Selecting only Spain and Lithuania\n",
    "eu_mean_age_marriages.reset_index(inplace = True)\n",
    "eu_mean_age_marriages.drop(columns = [\"Region\"], inplace = True)\n",
    "mean_age_marriages_select = eu_mean_age_marriages.get((eu_mean_age_marriages.Country == \"Spain\") | \n",
    "                                                   (eu_mean_age_marriages.Country == \"Lithuania\"))\n",
    "\n",
    "\n",
    "mean_age_marriages_select\n"
   ]
  },
  {
   "cell_type": "code",
   "execution_count": 1310,
   "metadata": {},
   "outputs": [],
   "source": [
    "# Reseting index\n",
    "mean_age_marriages_select.set_index([\"Country\", \"Sex\"], inplace = True)\n"
   ]
  },
  {
   "cell_type": "code",
   "execution_count": 1311,
   "metadata": {},
   "outputs": [],
   "source": [
    "# Filling missing values in 2012 for Lithuania\n",
    "\n",
    "mean_age_marriages_select = mean_age_marriages_select.interpolate(axis=1)"
   ]
  },
  {
   "cell_type": "code",
   "execution_count": 1312,
   "metadata": {},
   "outputs": [
    {
     "data": {
      "text/plain": [
       "<matplotlib.legend.Legend at 0x142904400>"
      ]
     },
     "execution_count": 1312,
     "metadata": {},
     "output_type": "execute_result"
    },
    {
     "data": {
      "image/png": "[encoded data removed]",
      "text/plain": [
       "<Figure size 720x360 with 1 Axes>"
      ]
     },
     "metadata": {
      "needs_background": "light"
     },
     "output_type": "display_data"
    }
   ],
   "source": [
    "#mean_age_marriages_select.T.plot()\n",
    "fig, ax = plt.subplots(figsize=(10,5))\n",
    "sns.lineplot(ax=ax, data = mean_age_marriages_select.T).set_title(\"Average age at first marriage by country and gender\")\n",
    "ax.set_ylabel(\"Average age\", fontsize = 13)\n",
    "plt.legend(frameon=False, loc='center left', bbox_to_anchor=(1, 0.5))"
   ]
  },
  {
   "cell_type": "code",
   "execution_count": 1313,
   "metadata": {},
   "outputs": [
    {
     "data": {
      "text/html": [
       "<div>\n",
       "<style scoped>\n",
       "    .dataframe tbody tr th:only-of-type {\n",
       "        vertical-align: middle;\n",
       "    }\n",
       "\n",
       "    .dataframe tbody tr th {\n",
       "        vertical-align: top;\n",
       "    }\n",
       "\n",
       "    .dataframe thead th {\n",
       "        text-align: right;\n",
       "    }\n",
       "</style>\n",
       "<table border=\"1\" class=\"dataframe\">\n",
       "  <thead>\n",
       "    <tr style=\"text-align: right;\">\n",
       "      <th></th>\n",
       "      <th></th>\n",
       "      <th>2006</th>\n",
       "      <th>2007</th>\n",
       "      <th>2008</th>\n",
       "      <th>2009</th>\n",
       "      <th>2010</th>\n",
       "      <th>2011</th>\n",
       "      <th>2012</th>\n",
       "      <th>2013</th>\n",
       "      <th>2014</th>\n",
       "      <th>2015</th>\n",
       "      <th>2016</th>\n",
       "      <th>2017</th>\n",
       "    </tr>\n",
       "    <tr>\n",
       "      <th>Country</th>\n",
       "      <th>Sex</th>\n",
       "      <th></th>\n",
       "      <th></th>\n",
       "      <th></th>\n",
       "      <th></th>\n",
       "      <th></th>\n",
       "      <th></th>\n",
       "      <th></th>\n",
       "      <th></th>\n",
       "      <th></th>\n",
       "      <th></th>\n",
       "      <th></th>\n",
       "      <th></th>\n",
       "    </tr>\n",
       "  </thead>\n",
       "  <tbody>\n",
       "    <tr>\n",
       "      <th>Spain</th>\n",
       "      <th>Female</th>\n",
       "      <td>29.6</td>\n",
       "      <td>29.8</td>\n",
       "      <td>30.1</td>\n",
       "      <td>30.5</td>\n",
       "      <td>30.9</td>\n",
       "      <td>31.3</td>\n",
       "      <td>31.60</td>\n",
       "      <td>32.2</td>\n",
       "      <td>32.3</td>\n",
       "      <td>32.7</td>\n",
       "      <td>33.0</td>\n",
       "      <td>33.2</td>\n",
       "    </tr>\n",
       "    <tr>\n",
       "      <th>Lithuania</th>\n",
       "      <th>Female</th>\n",
       "      <td>25.1</td>\n",
       "      <td>25.5</td>\n",
       "      <td>25.8</td>\n",
       "      <td>26.2</td>\n",
       "      <td>26.5</td>\n",
       "      <td>26.7</td>\n",
       "      <td>26.90</td>\n",
       "      <td>27.1</td>\n",
       "      <td>27.3</td>\n",
       "      <td>27.5</td>\n",
       "      <td>27.9</td>\n",
       "      <td>27.8</td>\n",
       "    </tr>\n",
       "    <tr>\n",
       "      <th>Spain</th>\n",
       "      <th>Male</th>\n",
       "      <td>31.8</td>\n",
       "      <td>32.0</td>\n",
       "      <td>32.3</td>\n",
       "      <td>32.7</td>\n",
       "      <td>33.1</td>\n",
       "      <td>33.4</td>\n",
       "      <td>33.70</td>\n",
       "      <td>34.4</td>\n",
       "      <td>34.5</td>\n",
       "      <td>34.9</td>\n",
       "      <td>35.1</td>\n",
       "      <td>35.4</td>\n",
       "    </tr>\n",
       "    <tr>\n",
       "      <th>Lithuania</th>\n",
       "      <th>Male</th>\n",
       "      <td>27.4</td>\n",
       "      <td>27.8</td>\n",
       "      <td>28.0</td>\n",
       "      <td>28.6</td>\n",
       "      <td>28.7</td>\n",
       "      <td>29.0</td>\n",
       "      <td>29.25</td>\n",
       "      <td>29.5</td>\n",
       "      <td>29.7</td>\n",
       "      <td>28.9</td>\n",
       "      <td>30.3</td>\n",
       "      <td>30.5</td>\n",
       "    </tr>\n",
       "  </tbody>\n",
       "</table>\n",
       "</div>"
      ],
      "text/plain": [
       "                  2006  2007  2008  2009  2010  2011   2012  2013  2014  2015  \\\n",
       "Country   Sex                                                                   \n",
       "Spain     Female  29.6  29.8  30.1  30.5  30.9  31.3  31.60  32.2  32.3  32.7   \n",
       "Lithuania Female  25.1  25.5  25.8  26.2  26.5  26.7  26.90  27.1  27.3  27.5   \n",
       "Spain     Male    31.8  32.0  32.3  32.7  33.1  33.4  33.70  34.4  34.5  34.9   \n",
       "Lithuania Male    27.4  27.8  28.0  28.6  28.7  29.0  29.25  29.5  29.7  28.9   \n",
       "\n",
       "                  2016  2017  \n",
       "Country   Sex                 \n",
       "Spain     Female  33.0  33.2  \n",
       "Lithuania Female  27.9  27.8  \n",
       "Spain     Male    35.1  35.4  \n",
       "Lithuania Male    30.3  30.5  "
      ]
     },
     "execution_count": 1313,
     "metadata": {},
     "output_type": "execute_result"
    }
   ],
   "source": [
    "mean_age_marriages_select"
   ]
  },
  {
   "cell_type": "code",
   "execution_count": 1314,
   "metadata": {},
   "outputs": [],
   "source": [
    "#Reading in divorce sheet\n",
    "divorce = pd.read_excel(\"./sources/SF_3_1_Marriage_divorce_rates.xlsx\", sheet_name= 'DivorceRate', header = 3, skipfooter = 17)\n"
   ]
  },
  {
   "cell_type": "code",
   "execution_count": 1315,
   "metadata": {},
   "outputs": [],
   "source": [
    "#dropping Note column as it has no valuable info\n",
    "divorce = divorce.drop(columns = [\"Note\", 1960, 1961, 1962, 1963, 1964, 1965, 1966, 1967, 1968, 1969, 1970, 1971,\n",
    "       1972, 1973, 1974, 1975, 1976, 1977, 1978, 1979, 1980, 1981, 1982, 1983, 1984, 1985, 1986, 1987, 1988, 1989])\n"
   ]
  },
  {
   "cell_type": "code",
   "execution_count": 1316,
   "metadata": {},
   "outputs": [],
   "source": [
    "# the data was read in as object due to missing values. Selecting columns to convert to numeric\n",
    "cols = divorce.columns.drop('Country', \"Gender\")\n"
   ]
  },
  {
   "cell_type": "code",
   "execution_count": 1317,
   "metadata": {},
   "outputs": [
    {
     "data": {
      "text/html": [
       "<div>\n",
       "<style scoped>\n",
       "    .dataframe tbody tr th:only-of-type {\n",
       "        vertical-align: middle;\n",
       "    }\n",
       "\n",
       "    .dataframe tbody tr th {\n",
       "        vertical-align: top;\n",
       "    }\n",
       "\n",
       "    .dataframe thead th {\n",
       "        text-align: right;\n",
       "    }\n",
       "</style>\n",
       "<table border=\"1\" class=\"dataframe\">\n",
       "  <thead>\n",
       "    <tr style=\"text-align: right;\">\n",
       "      <th></th>\n",
       "      <th>1990</th>\n",
       "      <th>1991</th>\n",
       "      <th>1992</th>\n",
       "      <th>1993</th>\n",
       "      <th>1994</th>\n",
       "      <th>1995</th>\n",
       "      <th>1996</th>\n",
       "      <th>1997</th>\n",
       "      <th>1998</th>\n",
       "      <th>1999</th>\n",
       "      <th>...</th>\n",
       "      <th>2008</th>\n",
       "      <th>2009</th>\n",
       "      <th>2010</th>\n",
       "      <th>2011</th>\n",
       "      <th>2012</th>\n",
       "      <th>2013</th>\n",
       "      <th>2014</th>\n",
       "      <th>2015</th>\n",
       "      <th>2016</th>\n",
       "      <th>2017</th>\n",
       "    </tr>\n",
       "    <tr>\n",
       "      <th>Country</th>\n",
       "      <th></th>\n",
       "      <th></th>\n",
       "      <th></th>\n",
       "      <th></th>\n",
       "      <th></th>\n",
       "      <th></th>\n",
       "      <th></th>\n",
       "      <th></th>\n",
       "      <th></th>\n",
       "      <th></th>\n",
       "      <th></th>\n",
       "      <th></th>\n",
       "      <th></th>\n",
       "      <th></th>\n",
       "      <th></th>\n",
       "      <th></th>\n",
       "      <th></th>\n",
       "      <th></th>\n",
       "      <th></th>\n",
       "      <th></th>\n",
       "      <th></th>\n",
       "    </tr>\n",
       "  </thead>\n",
       "  <tbody>\n",
       "    <tr>\n",
       "      <th>Lithuania</th>\n",
       "      <td>3.4</td>\n",
       "      <td>4.1</td>\n",
       "      <td>3.8</td>\n",
       "      <td>3.8</td>\n",
       "      <td>3.0</td>\n",
       "      <td>2.8</td>\n",
       "      <td>3.1</td>\n",
       "      <td>3.2</td>\n",
       "      <td>3.3</td>\n",
       "      <td>3.2</td>\n",
       "      <td>...</td>\n",
       "      <td>3.2</td>\n",
       "      <td>2.9</td>\n",
       "      <td>3.2</td>\n",
       "      <td>3.4</td>\n",
       "      <td>3.5</td>\n",
       "      <td>3.4</td>\n",
       "      <td>3.3</td>\n",
       "      <td>3.2</td>\n",
       "      <td>3.1</td>\n",
       "      <td>3.0</td>\n",
       "    </tr>\n",
       "    <tr>\n",
       "      <th>Spain</th>\n",
       "      <td>0.6</td>\n",
       "      <td>0.7</td>\n",
       "      <td>0.7</td>\n",
       "      <td>0.7</td>\n",
       "      <td>0.8</td>\n",
       "      <td>0.8</td>\n",
       "      <td>0.8</td>\n",
       "      <td>0.9</td>\n",
       "      <td>0.9</td>\n",
       "      <td>0.9</td>\n",
       "      <td>...</td>\n",
       "      <td>2.4</td>\n",
       "      <td>2.1</td>\n",
       "      <td>2.2</td>\n",
       "      <td>2.2</td>\n",
       "      <td>2.2</td>\n",
       "      <td>2.0</td>\n",
       "      <td>2.2</td>\n",
       "      <td>2.1</td>\n",
       "      <td>2.1</td>\n",
       "      <td>2.0</td>\n",
       "    </tr>\n",
       "  </tbody>\n",
       "</table>\n",
       "<p>2 rows × 28 columns</p>\n",
       "</div>"
      ],
      "text/plain": [
       "           1990  1991  1992  1993  1994  1995  1996  1997  1998  1999  ...  \\\n",
       "Country                                                                ...   \n",
       "Lithuania   3.4   4.1   3.8   3.8   3.0   2.8   3.1   3.2   3.3   3.2  ...   \n",
       "Spain       0.6   0.7   0.7   0.7   0.8   0.8   0.8   0.9   0.9   0.9  ...   \n",
       "\n",
       "           2008  2009  2010  2011  2012  2013  2014  2015  2016  2017  \n",
       "Country                                                                \n",
       "Lithuania   3.2   2.9   3.2   3.4   3.5   3.4   3.3   3.2   3.1   3.0  \n",
       "Spain       2.4   2.1   2.2   2.2   2.2   2.0   2.2   2.1   2.1   2.0  \n",
       "\n",
       "[2 rows x 28 columns]"
      ]
     },
     "execution_count": 1317,
     "metadata": {},
     "output_type": "execute_result"
    }
   ],
   "source": [
    "# converting to numeric\n",
    "divorce[cols] = divorce[cols].apply(pd.to_numeric, errors='coerce')\n",
    "\n",
    "divorce_select = divorce.get((divorce.Country == \"Spain\") | (divorce.Country == \"Lithuania\"))\n",
    "divorce_select.set_index(\"Country\", inplace = True)\n",
    "divorce_select"
   ]
  },
  {
   "cell_type": "code",
   "execution_count": 1318,
   "metadata": {},
   "outputs": [
    {
     "data": {
      "text/plain": [
       "<matplotlib.axes._subplots.AxesSubplot at 0x13c7ab400>"
      ]
     },
     "execution_count": 1318,
     "metadata": {},
     "output_type": "execute_result"
    },
    {
     "data": {
      "image/png": "[encoded data removed]",
      "text/plain": [
       "<Figure size 1008x576 with 1 Axes>"
      ]
     },
     "metadata": {
      "needs_background": "light"
     },
     "output_type": "display_data"
    }
   ],
   "source": [
    "divorce_select.T.plot(figsize = (14,8))"
   ]
  },
  {
   "cell_type": "code",
   "execution_count": 1319,
   "metadata": {},
   "outputs": [],
   "source": [
    "# setting index to country so I can plot transposed table\n",
    "divorce.set_index(\"Country\", inplace = True)\n",
    "div_top = divorce.sort_values(2016, ascending = False).head(5)\n"
   ]
  },
  {
   "cell_type": "code",
   "execution_count": 1320,
   "metadata": {},
   "outputs": [
    {
     "data": {
      "text/plain": [
       "<matplotlib.legend.Legend at 0x146955b38>"
      ]
     },
     "execution_count": 1320,
     "metadata": {},
     "output_type": "execute_result"
    },
    {
     "data": {
      "image/png": "[encoded data removed]",
      "text/plain": [
       "<Figure size 720x360 with 1 Axes>"
      ]
     },
     "metadata": {
      "needs_background": "light"
     },
     "output_type": "display_data"
    }
   ],
   "source": [
    "div_top.T.plot(figsize = (10,5))\n",
    "plt.ylabel(\"Divorce/1000 people\", fontsize = 15)\n",
    "plt.legend(frameon=False, loc='center left', bbox_to_anchor=(1, 0.5))"
   ]
  },
  {
   "cell_type": "code",
   "execution_count": 1321,
   "metadata": {},
   "outputs": [],
   "source": [
    "previous_marriages = pd.read_excel(\"./sources/SF_3_1_Marriage_divorce_rates.xlsx\", \n",
    "                                   sheet_name= 'PrevMaritalStatus', header = 3, skipfooter = 12)"
   ]
  },
  {
   "cell_type": "code",
   "execution_count": 1322,
   "metadata": {},
   "outputs": [],
   "source": [
    "previous_marriages = previous_marriages.drop(columns = [\"Note\", 1960, 1961, 1962, 1963, 1964, 1965, 1966, 1967, 1968, 1969, 1970, 1971,\n",
    "                                                        1972, 1973, 1974, 1975, 1976, 1977, 1978, 1979, 1980, 1981, 1982, 1983, 1984, 1985, 1986, 1987, 1988, 1989, \n",
    "                                                        1990, 1991, 1992, 1993, 1994, 1995, 1996, 1997, 1998, 1999, 2000])\n"
   ]
  },
  {
   "cell_type": "code",
   "execution_count": 1323,
   "metadata": {},
   "outputs": [
    {
     "data": {
      "text/html": [
       "<div>\n",
       "<style scoped>\n",
       "    .dataframe tbody tr th:only-of-type {\n",
       "        vertical-align: middle;\n",
       "    }\n",
       "\n",
       "    .dataframe tbody tr th {\n",
       "        vertical-align: top;\n",
       "    }\n",
       "\n",
       "    .dataframe thead th {\n",
       "        text-align: right;\n",
       "    }\n",
       "</style>\n",
       "<table border=\"1\" class=\"dataframe\">\n",
       "  <thead>\n",
       "    <tr style=\"text-align: right;\">\n",
       "      <th></th>\n",
       "      <th></th>\n",
       "      <th>2001</th>\n",
       "      <th>2002</th>\n",
       "      <th>2003</th>\n",
       "      <th>2004</th>\n",
       "      <th>2005</th>\n",
       "      <th>2006</th>\n",
       "      <th>2007</th>\n",
       "      <th>2008</th>\n",
       "      <th>2009</th>\n",
       "      <th>2010</th>\n",
       "      <th>2011</th>\n",
       "      <th>2012</th>\n",
       "      <th>2013</th>\n",
       "      <th>2014</th>\n",
       "      <th>2015</th>\n",
       "      <th>2016</th>\n",
       "    </tr>\n",
       "    <tr>\n",
       "      <th>Country</th>\n",
       "      <th>Previous_marital_status</th>\n",
       "      <th></th>\n",
       "      <th></th>\n",
       "      <th></th>\n",
       "      <th></th>\n",
       "      <th></th>\n",
       "      <th></th>\n",
       "      <th></th>\n",
       "      <th></th>\n",
       "      <th></th>\n",
       "      <th></th>\n",
       "      <th></th>\n",
       "      <th></th>\n",
       "      <th></th>\n",
       "      <th></th>\n",
       "      <th></th>\n",
       "      <th></th>\n",
       "    </tr>\n",
       "  </thead>\n",
       "  <tbody>\n",
       "    <tr>\n",
       "      <th rowspan=\"3\" valign=\"top\">Lithuania</th>\n",
       "      <th>Single never married</th>\n",
       "      <td>78.7917</td>\n",
       "      <td>78.9158</td>\n",
       "      <td>79.3264</td>\n",
       "      <td>78.1345</td>\n",
       "      <td>77.9104</td>\n",
       "      <td>77.4711</td>\n",
       "      <td>..</td>\n",
       "      <td>77.349</td>\n",
       "      <td>78.8726</td>\n",
       "      <td>79.2969</td>\n",
       "      <td>78.2321</td>\n",
       "      <td>78.7937</td>\n",
       "      <td>78.4137</td>\n",
       "      <td>77.7527</td>\n",
       "      <td>78.1007</td>\n",
       "      <td>76.7579</td>\n",
       "    </tr>\n",
       "    <tr>\n",
       "      <th>Divorced</th>\n",
       "      <td>19.1078</td>\n",
       "      <td>19.2359</td>\n",
       "      <td>18.6552</td>\n",
       "      <td>20.0225</td>\n",
       "      <td>20.2262</td>\n",
       "      <td>20.5474</td>\n",
       "      <td>..</td>\n",
       "      <td>20.9658</td>\n",
       "      <td>19.6232</td>\n",
       "      <td>19.0871</td>\n",
       "      <td>20.1628</td>\n",
       "      <td>19.6404</td>\n",
       "      <td>19.9936</td>\n",
       "      <td>20.6643</td>\n",
       "      <td>20.4712</td>\n",
       "      <td>21.6471</td>\n",
       "    </tr>\n",
       "    <tr>\n",
       "      <th>Widowed</th>\n",
       "      <td>2.10052</td>\n",
       "      <td>1.84835</td>\n",
       "      <td>2.01845</td>\n",
       "      <td>1.84304</td>\n",
       "      <td>1.86337</td>\n",
       "      <td>1.98155</td>\n",
       "      <td>..</td>\n",
       "      <td>1.68516</td>\n",
       "      <td>1.50424</td>\n",
       "      <td>1.61601</td>\n",
       "      <td>1.60502</td>\n",
       "      <td>1.5659</td>\n",
       "      <td>1.59265</td>\n",
       "      <td>1.58296</td>\n",
       "      <td>1.42812</td>\n",
       "      <td>1.59507</td>\n",
       "    </tr>\n",
       "    <tr>\n",
       "      <th rowspan=\"3\" valign=\"top\">Spain</th>\n",
       "      <th>Single never married</th>\n",
       "      <td>93.5867</td>\n",
       "      <td>93.1057</td>\n",
       "      <td>92.5422</td>\n",
       "      <td>91.6044</td>\n",
       "      <td>91.2334</td>\n",
       "      <td>89.9368</td>\n",
       "      <td>89.1438</td>\n",
       "      <td>88.3244</td>\n",
       "      <td>86.8358</td>\n",
       "      <td>85.8513</td>\n",
       "      <td>85.383</td>\n",
       "      <td>85.2647</td>\n",
       "      <td>84.2345</td>\n",
       "      <td>84.2867</td>\n",
       "      <td>83.7577</td>\n",
       "      <td>83.0259</td>\n",
       "    </tr>\n",
       "    <tr>\n",
       "      <th>Divorced</th>\n",
       "      <td>5.75301</td>\n",
       "      <td>6.18587</td>\n",
       "      <td>6.70406</td>\n",
       "      <td>7.65413</td>\n",
       "      <td>8.07142</td>\n",
       "      <td>9.33888</td>\n",
       "      <td>10.146</td>\n",
       "      <td>10.9534</td>\n",
       "      <td>12.3279</td>\n",
       "      <td>13.3442</td>\n",
       "      <td>13.7783</td>\n",
       "      <td>13.9138</td>\n",
       "      <td>14.9521</td>\n",
       "      <td>14.918</td>\n",
       "      <td>15.4854</td>\n",
       "      <td>16.185</td>\n",
       "    </tr>\n",
       "    <tr>\n",
       "      <th>Widowed</th>\n",
       "      <td>0.660312</td>\n",
       "      <td>0.708423</td>\n",
       "      <td>0.753764</td>\n",
       "      <td>0.741453</td>\n",
       "      <td>0.695144</td>\n",
       "      <td>0.724329</td>\n",
       "      <td>0.710207</td>\n",
       "      <td>0.722194</td>\n",
       "      <td>0.836345</td>\n",
       "      <td>0.804451</td>\n",
       "      <td>0.838706</td>\n",
       "      <td>0.821521</td>\n",
       "      <td>0.813427</td>\n",
       "      <td>0.79529</td>\n",
       "      <td>0.756971</td>\n",
       "      <td>0.789083</td>\n",
       "    </tr>\n",
       "  </tbody>\n",
       "</table>\n",
       "</div>"
      ],
      "text/plain": [
       "                                       2001      2002      2003      2004  \\\n",
       "Country   Previous_marital_status                                           \n",
       "Lithuania Single never married      78.7917   78.9158   79.3264   78.1345   \n",
       "          Divorced                  19.1078   19.2359   18.6552   20.0225   \n",
       "          Widowed                   2.10052   1.84835   2.01845   1.84304   \n",
       "Spain     Single never married      93.5867   93.1057   92.5422   91.6044   \n",
       "          Divorced                  5.75301   6.18587   6.70406   7.65413   \n",
       "          Widowed                  0.660312  0.708423  0.753764  0.741453   \n",
       "\n",
       "                                       2005      2006      2007      2008  \\\n",
       "Country   Previous_marital_status                                           \n",
       "Lithuania Single never married      77.9104   77.4711        ..    77.349   \n",
       "          Divorced                  20.2262   20.5474        ..   20.9658   \n",
       "          Widowed                   1.86337   1.98155        ..   1.68516   \n",
       "Spain     Single never married      91.2334   89.9368   89.1438   88.3244   \n",
       "          Divorced                  8.07142   9.33888    10.146   10.9534   \n",
       "          Widowed                  0.695144  0.724329  0.710207  0.722194   \n",
       "\n",
       "                                       2009      2010      2011      2012  \\\n",
       "Country   Previous_marital_status                                           \n",
       "Lithuania Single never married      78.8726   79.2969   78.2321   78.7937   \n",
       "          Divorced                  19.6232   19.0871   20.1628   19.6404   \n",
       "          Widowed                   1.50424   1.61601   1.60502    1.5659   \n",
       "Spain     Single never married      86.8358   85.8513    85.383   85.2647   \n",
       "          Divorced                  12.3279   13.3442   13.7783   13.9138   \n",
       "          Widowed                  0.836345  0.804451  0.838706  0.821521   \n",
       "\n",
       "                                       2013     2014      2015      2016  \n",
       "Country   Previous_marital_status                                         \n",
       "Lithuania Single never married      78.4137  77.7527   78.1007   76.7579  \n",
       "          Divorced                  19.9936  20.6643   20.4712   21.6471  \n",
       "          Widowed                   1.59265  1.58296   1.42812   1.59507  \n",
       "Spain     Single never married      84.2345  84.2867   83.7577   83.0259  \n",
       "          Divorced                  14.9521   14.918   15.4854    16.185  \n",
       "          Widowed                  0.813427  0.79529  0.756971  0.789083  "
      ]
     },
     "execution_count": 1323,
     "metadata": {},
     "output_type": "execute_result"
    }
   ],
   "source": [
    "previous_marriages[\"Country\"] = previous_marriages[\"Country\"].ffill()\n",
    "previous_marriages = previous_marriages.rename(columns = {\"Unnamed: 2\": \"Previous_marital_status\"})\n",
    "previous_marriages_select = previous_marriages.get((previous_marriages[\"Country\"] == \"Spain\") | \n",
    "                                                  (previous_marriages[\"Country\"] == \"Lithuania\"))\n",
    "previous_marriages_select.set_index([\"Country\", \"Previous_marital_status\"], inplace = True)\n",
    "previous_marriages_select"
   ]
  },
  {
   "cell_type": "code",
   "execution_count": 1324,
   "metadata": {},
   "outputs": [],
   "source": [
    "previous_marriages_spain = previous_marriages.get(previous_marriages[\"Country\"] == \"Spain\")\n",
    "previous_marriages_lithuania=previous_marriages.get(previous_marriages[\"Country\"] == \"Lithuania\")"
   ]
  },
  {
   "cell_type": "code",
   "execution_count": 1325,
   "metadata": {},
   "outputs": [],
   "source": [
    "previous_marriages_lithuania.set_index([\"Country\", \"Previous_marital_status\"], inplace = True)"
   ]
  },
  {
   "cell_type": "code",
   "execution_count": 1326,
   "metadata": {},
   "outputs": [
    {
     "data": {
      "text/plain": [
       "array([<matplotlib.axes._subplots.AxesSubplot object at 0x146878080>],\n",
       "      dtype=object)"
      ]
     },
     "execution_count": 1326,
     "metadata": {},
     "output_type": "execute_result"
    },
    {
     "data": {
      "image/png": "[encoded data removed]",
      "text/plain": [
       "<Figure size 432x288 with 1 Axes>"
      ]
     },
     "metadata": {},
     "output_type": "display_data"
    }
   ],
   "source": [
    "previous_marriages_lithuania[2016].T.plot.pie(subplots=True)"
   ]
  },
  {
   "cell_type": "code",
   "execution_count": 1327,
   "metadata": {},
   "outputs": [
    {
     "data": {
      "text/html": [
       "<div>\n",
       "<style scoped>\n",
       "    .dataframe tbody tr th:only-of-type {\n",
       "        vertical-align: middle;\n",
       "    }\n",
       "\n",
       "    .dataframe tbody tr th {\n",
       "        vertical-align: top;\n",
       "    }\n",
       "\n",
       "    .dataframe thead th {\n",
       "        text-align: right;\n",
       "    }\n",
       "</style>\n",
       "<table border=\"1\" class=\"dataframe\">\n",
       "  <thead>\n",
       "    <tr style=\"text-align: right;\">\n",
       "      <th></th>\n",
       "      <th>Country</th>\n",
       "      <th>Previous_marital_status</th>\n",
       "      <th>2001</th>\n",
       "      <th>2002</th>\n",
       "      <th>2003</th>\n",
       "      <th>2004</th>\n",
       "      <th>2005</th>\n",
       "      <th>2006</th>\n",
       "      <th>2007</th>\n",
       "      <th>2008</th>\n",
       "      <th>2009</th>\n",
       "      <th>2010</th>\n",
       "      <th>2011</th>\n",
       "      <th>2012</th>\n",
       "      <th>2013</th>\n",
       "      <th>2014</th>\n",
       "      <th>2015</th>\n",
       "      <th>2016</th>\n",
       "    </tr>\n",
       "  </thead>\n",
       "  <tbody>\n",
       "    <tr>\n",
       "      <th>90</th>\n",
       "      <td>Spain</td>\n",
       "      <td>Single never married</td>\n",
       "      <td>93.5867</td>\n",
       "      <td>93.1057</td>\n",
       "      <td>92.5422</td>\n",
       "      <td>91.6044</td>\n",
       "      <td>91.2334</td>\n",
       "      <td>89.9368</td>\n",
       "      <td>89.1438</td>\n",
       "      <td>88.3244</td>\n",
       "      <td>86.8358</td>\n",
       "      <td>85.8513</td>\n",
       "      <td>85.383</td>\n",
       "      <td>85.2647</td>\n",
       "      <td>84.2345</td>\n",
       "      <td>84.2867</td>\n",
       "      <td>83.7577</td>\n",
       "      <td>83.0259</td>\n",
       "    </tr>\n",
       "    <tr>\n",
       "      <th>91</th>\n",
       "      <td>Spain</td>\n",
       "      <td>Divorced</td>\n",
       "      <td>5.75301</td>\n",
       "      <td>6.18587</td>\n",
       "      <td>6.70406</td>\n",
       "      <td>7.65413</td>\n",
       "      <td>8.07142</td>\n",
       "      <td>9.33888</td>\n",
       "      <td>10.146</td>\n",
       "      <td>10.9534</td>\n",
       "      <td>12.3279</td>\n",
       "      <td>13.3442</td>\n",
       "      <td>13.7783</td>\n",
       "      <td>13.9138</td>\n",
       "      <td>14.9521</td>\n",
       "      <td>14.918</td>\n",
       "      <td>15.4854</td>\n",
       "      <td>16.185</td>\n",
       "    </tr>\n",
       "    <tr>\n",
       "      <th>92</th>\n",
       "      <td>Spain</td>\n",
       "      <td>Widowed</td>\n",
       "      <td>0.660312</td>\n",
       "      <td>0.708423</td>\n",
       "      <td>0.753764</td>\n",
       "      <td>0.741453</td>\n",
       "      <td>0.695144</td>\n",
       "      <td>0.724329</td>\n",
       "      <td>0.710207</td>\n",
       "      <td>0.722194</td>\n",
       "      <td>0.836345</td>\n",
       "      <td>0.804451</td>\n",
       "      <td>0.838706</td>\n",
       "      <td>0.821521</td>\n",
       "      <td>0.813427</td>\n",
       "      <td>0.79529</td>\n",
       "      <td>0.756971</td>\n",
       "      <td>0.789083</td>\n",
       "    </tr>\n",
       "  </tbody>\n",
       "</table>\n",
       "</div>"
      ],
      "text/plain": [
       "   Country Previous_marital_status      2001      2002      2003      2004  \\\n",
       "90   Spain    Single never married   93.5867   93.1057   92.5422   91.6044   \n",
       "91   Spain                Divorced   5.75301   6.18587   6.70406   7.65413   \n",
       "92   Spain                 Widowed  0.660312  0.708423  0.753764  0.741453   \n",
       "\n",
       "        2005      2006      2007      2008      2009      2010      2011  \\\n",
       "90   91.2334   89.9368   89.1438   88.3244   86.8358   85.8513    85.383   \n",
       "91   8.07142   9.33888    10.146   10.9534   12.3279   13.3442   13.7783   \n",
       "92  0.695144  0.724329  0.710207  0.722194  0.836345  0.804451  0.838706   \n",
       "\n",
       "        2012      2013     2014      2015      2016  \n",
       "90   85.2647   84.2345  84.2867   83.7577   83.0259  \n",
       "91   13.9138   14.9521   14.918   15.4854    16.185  \n",
       "92  0.821521  0.813427  0.79529  0.756971  0.789083  "
      ]
     },
     "execution_count": 1327,
     "metadata": {},
     "output_type": "execute_result"
    }
   ],
   "source": [
    "previous_marriages_spain"
   ]
  },
  {
   "cell_type": "code",
   "execution_count": 1328,
   "metadata": {},
   "outputs": [
    {
     "data": {
      "text/plain": [
       "array([<matplotlib.axes._subplots.AxesSubplot object at 0x137785320>],\n",
       "      dtype=object)"
      ]
     },
     "execution_count": 1328,
     "metadata": {},
     "output_type": "execute_result"
    },
    {
     "data": {
      "image/png": "[encoded data removed]",
      "text/plain": [
       "<Figure size 432x288 with 1 Axes>"
      ]
     },
     "metadata": {},
     "output_type": "display_data"
    }
   ],
   "source": [
    "previous_marriages_spain.set_index([\"Country\", \"Previous_marital_status\"], inplace = True)\n",
    "previous_marriages_spain[2016].T.plot.pie(subplots=True)"
   ]
  },
  {
   "cell_type": "code",
   "execution_count": 1338,
   "metadata": {},
   "outputs": [],
   "source": [
    "marriages = pd.read_excel(\"./sources/SF_3_1_Marriage_divorce_rates.xlsx\", sheet_name= 'MarriageRates', header = 3, skipfooter = 21)"
   ]
  },
  {
   "cell_type": "code",
   "execution_count": 1339,
   "metadata": {},
   "outputs": [
    {
     "data": {
      "text/html": [
       "<div>\n",
       "<style scoped>\n",
       "    .dataframe tbody tr th:only-of-type {\n",
       "        vertical-align: middle;\n",
       "    }\n",
       "\n",
       "    .dataframe tbody tr th {\n",
       "        vertical-align: top;\n",
       "    }\n",
       "\n",
       "    .dataframe thead th {\n",
       "        text-align: right;\n",
       "    }\n",
       "</style>\n",
       "<table border=\"1\" class=\"dataframe\">\n",
       "  <thead>\n",
       "    <tr style=\"text-align: right;\">\n",
       "      <th></th>\n",
       "      <th>Country</th>\n",
       "      <th>1990</th>\n",
       "      <th>1991</th>\n",
       "      <th>1992</th>\n",
       "      <th>1993</th>\n",
       "      <th>1994</th>\n",
       "      <th>1995</th>\n",
       "      <th>1996</th>\n",
       "      <th>1997</th>\n",
       "      <th>1998</th>\n",
       "      <th>...</th>\n",
       "      <th>2008</th>\n",
       "      <th>2009</th>\n",
       "      <th>2010</th>\n",
       "      <th>2011</th>\n",
       "      <th>2012</th>\n",
       "      <th>2013</th>\n",
       "      <th>2014</th>\n",
       "      <th>2015</th>\n",
       "      <th>2016</th>\n",
       "      <th>2017</th>\n",
       "    </tr>\n",
       "  </thead>\n",
       "  <tbody>\n",
       "    <tr>\n",
       "      <th>0</th>\n",
       "      <td>Austria</td>\n",
       "      <td>5.9</td>\n",
       "      <td>5.7</td>\n",
       "      <td>5.8</td>\n",
       "      <td>5.7</td>\n",
       "      <td>5.5</td>\n",
       "      <td>5.4</td>\n",
       "      <td>5.3</td>\n",
       "      <td>5.2</td>\n",
       "      <td>4.9</td>\n",
       "      <td>...</td>\n",
       "      <td>4.2</td>\n",
       "      <td>4.3</td>\n",
       "      <td>4.5</td>\n",
       "      <td>4.3</td>\n",
       "      <td>4.6</td>\n",
       "      <td>4.3</td>\n",
       "      <td>4.4</td>\n",
       "      <td>5.1</td>\n",
       "      <td>5.1</td>\n",
       "      <td>5.1</td>\n",
       "    </tr>\n",
       "    <tr>\n",
       "      <th>1</th>\n",
       "      <td>Belgium</td>\n",
       "      <td>6.5</td>\n",
       "      <td>6.1</td>\n",
       "      <td>5.8</td>\n",
       "      <td>5.4</td>\n",
       "      <td>5.1</td>\n",
       "      <td>5.1</td>\n",
       "      <td>5.0</td>\n",
       "      <td>4.7</td>\n",
       "      <td>4.4</td>\n",
       "      <td>...</td>\n",
       "      <td>4.3</td>\n",
       "      <td>4.0</td>\n",
       "      <td>3.9</td>\n",
       "      <td>3.7</td>\n",
       "      <td>3.8</td>\n",
       "      <td>3.4</td>\n",
       "      <td>3.6</td>\n",
       "      <td>4.0</td>\n",
       "      <td>3.9</td>\n",
       "      <td>3.9</td>\n",
       "    </tr>\n",
       "    <tr>\n",
       "      <th>2</th>\n",
       "      <td>Czech Republic</td>\n",
       "      <td>8.8</td>\n",
       "      <td>7</td>\n",
       "      <td>7.2</td>\n",
       "      <td>6.4</td>\n",
       "      <td>5.7</td>\n",
       "      <td>5.3</td>\n",
       "      <td>5.2</td>\n",
       "      <td>5.6</td>\n",
       "      <td>5.3</td>\n",
       "      <td>...</td>\n",
       "      <td>5.1</td>\n",
       "      <td>4.6</td>\n",
       "      <td>4.5</td>\n",
       "      <td>4.3</td>\n",
       "      <td>4.3</td>\n",
       "      <td>4.1</td>\n",
       "      <td>4.3</td>\n",
       "      <td>4.6</td>\n",
       "      <td>4.8</td>\n",
       "      <td>5.0</td>\n",
       "    </tr>\n",
       "    <tr>\n",
       "      <th>3</th>\n",
       "      <td>Denmark</td>\n",
       "      <td>6.1</td>\n",
       "      <td>6</td>\n",
       "      <td>6.2</td>\n",
       "      <td>6.1</td>\n",
       "      <td>6.8</td>\n",
       "      <td>6.6</td>\n",
       "      <td>6.8</td>\n",
       "      <td>6.5</td>\n",
       "      <td>6.5</td>\n",
       "      <td>...</td>\n",
       "      <td>6.8</td>\n",
       "      <td>6.0</td>\n",
       "      <td>5.6</td>\n",
       "      <td>4.9</td>\n",
       "      <td>5.1</td>\n",
       "      <td>4.9</td>\n",
       "      <td>5.0</td>\n",
       "      <td>5.1</td>\n",
       "      <td>5.4</td>\n",
       "      <td>5.5</td>\n",
       "    </tr>\n",
       "    <tr>\n",
       "      <th>4</th>\n",
       "      <td>Estonia</td>\n",
       "      <td>7.5</td>\n",
       "      <td>6.6</td>\n",
       "      <td>5.8</td>\n",
       "      <td>5.2</td>\n",
       "      <td>5.0</td>\n",
       "      <td>4.9</td>\n",
       "      <td>3.9</td>\n",
       "      <td>4.0</td>\n",
       "      <td>3.9</td>\n",
       "      <td>...</td>\n",
       "      <td>4.6</td>\n",
       "      <td>4.0</td>\n",
       "      <td>3.8</td>\n",
       "      <td>4.1</td>\n",
       "      <td>4.5</td>\n",
       "      <td>4.3</td>\n",
       "      <td>4.7</td>\n",
       "      <td>5.2</td>\n",
       "      <td>4.8</td>\n",
       "      <td>4.9</td>\n",
       "    </tr>\n",
       "  </tbody>\n",
       "</table>\n",
       "<p>5 rows × 29 columns</p>\n",
       "</div>"
      ],
      "text/plain": [
       "          Country 1990 1991 1992 1993  1994  1995  1996  1997  1998  ...  \\\n",
       "0         Austria  5.9  5.7  5.8  5.7   5.5   5.4   5.3   5.2   4.9  ...   \n",
       "1         Belgium  6.5  6.1  5.8  5.4   5.1   5.1   5.0   4.7   4.4  ...   \n",
       "2  Czech Republic  8.8    7  7.2  6.4   5.7   5.3   5.2   5.6   5.3  ...   \n",
       "3         Denmark  6.1    6  6.2  6.1   6.8   6.6   6.8   6.5   6.5  ...   \n",
       "4         Estonia  7.5  6.6  5.8  5.2   5.0   4.9   3.9   4.0   3.9  ...   \n",
       "\n",
       "   2008  2009  2010  2011  2012 2013 2014 2015  2016  2017  \n",
       "0   4.2   4.3   4.5   4.3   4.6  4.3  4.4  5.1   5.1   5.1  \n",
       "1   4.3   4.0   3.9   3.7   3.8  3.4  3.6  4.0   3.9   3.9  \n",
       "2   5.1   4.6   4.5   4.3   4.3  4.1  4.3  4.6   4.8   5.0  \n",
       "3   6.8   6.0   5.6   4.9   5.1  4.9  5.0  5.1   5.4   5.5  \n",
       "4   4.6   4.0   3.8   4.1   4.5  4.3  4.7  5.2   4.8   4.9  \n",
       "\n",
       "[5 rows x 29 columns]"
      ]
     },
     "execution_count": 1339,
     "metadata": {},
     "output_type": "execute_result"
    }
   ],
   "source": [
    "marriages = marriages.drop(columns = [\"Note\", 1960, 1961, 1962, 1963, 1964, 1965, 1966, 1967, 1968, 1969, 1970, 1971,\n",
    "       1972, 1973, 1974, 1975, 1976, 1977, 1978, 1979, 1980, 1981, 1982, 1983, 1984, 1985, 1986, 1987, 1988, 1989])\n",
    "marriages.head()"
   ]
  },
  {
   "cell_type": "code",
   "execution_count": 1340,
   "metadata": {},
   "outputs": [],
   "source": [
    "cols = marriages.columns.drop('Country')\n",
    "marriages[cols] = marriages[cols].apply(pd.to_numeric, errors='coerce')\n",
    "mar_top = marriages.set_index(\"Country\").sort_values(2016, ascending = False).head(10)\n",
    "\n"
   ]
  },
  {
   "cell_type": "code",
   "execution_count": 1341,
   "metadata": {},
   "outputs": [
    {
     "data": {
      "text/plain": [
       "<matplotlib.legend.Legend at 0x144d65dd8>"
      ]
     },
     "execution_count": 1341,
     "metadata": {},
     "output_type": "execute_result"
    },
    {
     "data": {
      "image/png": "[encoded data removed]",
      "text/plain": [
       "<Figure size 720x360 with 1 Axes>"
      ]
     },
     "metadata": {
      "needs_background": "light"
     },
     "output_type": "display_data"
    }
   ],
   "source": [
    "mar_top.T.plot(figsize = (10,5))\n",
    "plt.legend(fontsize=11)\n",
    "plt.ylabel(\"Marriages/1000 people\", fontsize = 15)\n",
    "plt.legend(frameon=False, loc='center left', bbox_to_anchor=(1, 0.5))"
   ]
  },
  {
   "cell_type": "code",
   "execution_count": 1342,
   "metadata": {},
   "outputs": [],
   "source": [
    "marriages_select = marriages.get(\n",
    "    (marriages[\"Country\"] == \"Spain\") | (marriages[\"Country\"] == \"Lithuania\"))\n",
    "marriages_select.set_index(\"Country\", inplace = True)"
   ]
  },
  {
   "cell_type": "code",
   "execution_count": 1344,
   "metadata": {},
   "outputs": [
    {
     "data": {
      "text/html": [
       "<div>\n",
       "<style scoped>\n",
       "    .dataframe tbody tr th:only-of-type {\n",
       "        vertical-align: middle;\n",
       "    }\n",
       "\n",
       "    .dataframe tbody tr th {\n",
       "        vertical-align: top;\n",
       "    }\n",
       "\n",
       "    .dataframe thead th {\n",
       "        text-align: right;\n",
       "    }\n",
       "</style>\n",
       "<table border=\"1\" class=\"dataframe\">\n",
       "  <thead>\n",
       "    <tr style=\"text-align: right;\">\n",
       "      <th></th>\n",
       "      <th>1990</th>\n",
       "      <th>1991</th>\n",
       "      <th>1992</th>\n",
       "      <th>1993</th>\n",
       "      <th>1994</th>\n",
       "      <th>1995</th>\n",
       "      <th>1996</th>\n",
       "      <th>1997</th>\n",
       "      <th>1998</th>\n",
       "      <th>1999</th>\n",
       "      <th>...</th>\n",
       "      <th>2008</th>\n",
       "      <th>2009</th>\n",
       "      <th>2010</th>\n",
       "      <th>2011</th>\n",
       "      <th>2012</th>\n",
       "      <th>2013</th>\n",
       "      <th>2014</th>\n",
       "      <th>2015</th>\n",
       "      <th>2016</th>\n",
       "      <th>2017</th>\n",
       "    </tr>\n",
       "    <tr>\n",
       "      <th>Country</th>\n",
       "      <th></th>\n",
       "      <th></th>\n",
       "      <th></th>\n",
       "      <th></th>\n",
       "      <th></th>\n",
       "      <th></th>\n",
       "      <th></th>\n",
       "      <th></th>\n",
       "      <th></th>\n",
       "      <th></th>\n",
       "      <th></th>\n",
       "      <th></th>\n",
       "      <th></th>\n",
       "      <th></th>\n",
       "      <th></th>\n",
       "      <th></th>\n",
       "      <th></th>\n",
       "      <th></th>\n",
       "      <th></th>\n",
       "      <th></th>\n",
       "      <th></th>\n",
       "    </tr>\n",
       "  </thead>\n",
       "  <tbody>\n",
       "    <tr>\n",
       "      <th>Lithuania</th>\n",
       "      <td>9.8</td>\n",
       "      <td>9.2</td>\n",
       "      <td>8.1</td>\n",
       "      <td>6.4</td>\n",
       "      <td>6.4</td>\n",
       "      <td>6.1</td>\n",
       "      <td>5.7</td>\n",
       "      <td>5.3</td>\n",
       "      <td>5.2</td>\n",
       "      <td>5.1</td>\n",
       "      <td>...</td>\n",
       "      <td>7.5</td>\n",
       "      <td>6.5</td>\n",
       "      <td>6.0</td>\n",
       "      <td>6.3</td>\n",
       "      <td>6.9</td>\n",
       "      <td>6.9</td>\n",
       "      <td>7.6</td>\n",
       "      <td>7.6</td>\n",
       "      <td>7.4</td>\n",
       "      <td>7.5</td>\n",
       "    </tr>\n",
       "    <tr>\n",
       "      <th>Spain</th>\n",
       "      <td>5.7</td>\n",
       "      <td>5.6</td>\n",
       "      <td>5.6</td>\n",
       "      <td>5.1</td>\n",
       "      <td>5.1</td>\n",
       "      <td>5.1</td>\n",
       "      <td>4.9</td>\n",
       "      <td>5.0</td>\n",
       "      <td>5.2</td>\n",
       "      <td>5.2</td>\n",
       "      <td>...</td>\n",
       "      <td>4.2</td>\n",
       "      <td>3.7</td>\n",
       "      <td>3.6</td>\n",
       "      <td>3.4</td>\n",
       "      <td>3.5</td>\n",
       "      <td>3.3</td>\n",
       "      <td>3.4</td>\n",
       "      <td>3.6</td>\n",
       "      <td>3.7</td>\n",
       "      <td>3.7</td>\n",
       "    </tr>\n",
       "  </tbody>\n",
       "</table>\n",
       "<p>2 rows × 28 columns</p>\n",
       "</div>"
      ],
      "text/plain": [
       "           1990  1991  1992  1993  1994  1995  1996  1997  1998  1999  ...  \\\n",
       "Country                                                                ...   \n",
       "Lithuania   9.8   9.2   8.1   6.4   6.4   6.1   5.7   5.3   5.2   5.1  ...   \n",
       "Spain       5.7   5.6   5.6   5.1   5.1   5.1   4.9   5.0   5.2   5.2  ...   \n",
       "\n",
       "           2008  2009  2010  2011  2012  2013  2014  2015  2016  2017  \n",
       "Country                                                                \n",
       "Lithuania   7.5   6.5   6.0   6.3   6.9   6.9   7.6   7.6   7.4   7.5  \n",
       "Spain       4.2   3.7   3.6   3.4   3.5   3.3   3.4   3.6   3.7   3.7  \n",
       "\n",
       "[2 rows x 28 columns]"
      ]
     },
     "execution_count": 1344,
     "metadata": {},
     "output_type": "execute_result"
    }
   ],
   "source": [
    "marriages_select"
   ]
  },
  {
   "cell_type": "code",
   "execution_count": 1345,
   "metadata": {},
   "outputs": [
    {
     "data": {
      "text/plain": [
       "Text(0, 0.5, 'Marriages/1000 people')"
      ]
     },
     "execution_count": 1345,
     "metadata": {},
     "output_type": "execute_result"
    },
    {
     "data": {
      "image/png": "[encoded data removed]",
      "text/plain": [
       "<Figure size 864x504 with 1 Axes>"
      ]
     },
     "metadata": {
      "needs_background": "light"
     },
     "output_type": "display_data"
    }
   ],
   "source": [
    "marriages_select.T.plot(figsize = (12,7))\n",
    "plt.legend(fontsize=20)\n",
    "plt.ylabel(\"Marriages/1000 people\", fontsize = 15)"
   ]
  },
  {
   "cell_type": "code",
   "execution_count": 1347,
   "metadata": {},
   "outputs": [],
   "source": [
    "# reading in mariage length document\n",
    "marriage_length = pd.read_csv(\"./sources/series-1732322112c.csv\")\n"
   ]
  },
  {
   "cell_type": "code",
   "execution_count": 1348,
   "metadata": {},
   "outputs": [],
   "source": [
    "marriage_length = marriage_length[['PERIOD', \"VALUE\"]]"
   ]
  },
  {
   "cell_type": "code",
   "execution_count": 1349,
   "metadata": {},
   "outputs": [],
   "source": [
    "marriage_length.set_index(\"PERIOD\", inplace = True)"
   ]
  },
  {
   "cell_type": "code",
   "execution_count": 1350,
   "metadata": {},
   "outputs": [
    {
     "data": {
      "text/plain": [
       "<matplotlib.axes._subplots.AxesSubplot at 0x140b0c320>"
      ]
     },
     "execution_count": 1350,
     "metadata": {},
     "output_type": "execute_result"
    },
    {
     "data": {
      "image/png": "[encoded data removed]",
      "text/plain": [
       "<Figure size 432x288 with 1 Axes>"
      ]
     },
     "metadata": {
      "needs_background": "light"
     },
     "output_type": "display_data"
    }
   ],
   "source": [
    "marriage_length.plot()"
   ]
  },
  {
   "cell_type": "code",
   "execution_count": 1095,
   "metadata": {},
   "outputs": [],
   "source": [
    "marriage_length_select = pd.read_excel(\"./sources/demo_ndivdur.xls\", header = 8, skipfooter = 3)"
   ]
  },
  {
   "cell_type": "code",
   "execution_count": 1096,
   "metadata": {},
   "outputs": [
    {
     "name": "stderr",
     "output_type": "stream",
     "text": [
      "/usr/local/Cellar/ipython/7.2.0/libexec/vendor/lib/python3.7/site-packages/ipykernel_launcher.py:2: SettingWithCopyWarning: \n",
      "A value is trying to be set on a copy of a slice from a DataFrame.\n",
      "Try using .loc[row_indexer,col_indexer] = value instead\n",
      "\n",
      "See the caveats in the documentation: http://pandas.pydata.org/pandas-docs/stable/indexing.html#indexing-view-versus-copy\n",
      "  \n"
     ]
    }
   ],
   "source": [
    "marriage_length_select_spain = marriage_length_select.get(marriage_length_select.Country == \"Spain\")\n",
    "marriage_length_select_spain[\"share 2017\"] = marriage_length_select_spain[\"2017\"].apply(lambda x: x/97960)"
   ]
  },
  {
   "cell_type": "code",
   "execution_count": 1098,
   "metadata": {},
   "outputs": [
    {
     "data": {
      "text/html": [
       "<div>\n",
       "<style scoped>\n",
       "    .dataframe tbody tr th:only-of-type {\n",
       "        vertical-align: middle;\n",
       "    }\n",
       "\n",
       "    .dataframe tbody tr th {\n",
       "        vertical-align: top;\n",
       "    }\n",
       "\n",
       "    .dataframe thead th {\n",
       "        text-align: right;\n",
       "    }\n",
       "</style>\n",
       "<table border=\"1\" class=\"dataframe\">\n",
       "  <thead>\n",
       "    <tr style=\"text-align: right;\">\n",
       "      <th></th>\n",
       "      <th>Country</th>\n",
       "      <th>DURATION</th>\n",
       "      <th>2010</th>\n",
       "      <th>2011</th>\n",
       "      <th>2012</th>\n",
       "      <th>2013</th>\n",
       "      <th>2014</th>\n",
       "      <th>2015</th>\n",
       "      <th>2016</th>\n",
       "      <th>2017</th>\n",
       "      <th>share 2017</th>\n",
       "    </tr>\n",
       "  </thead>\n",
       "  <tbody>\n",
       "    <tr>\n",
       "      <th>0</th>\n",
       "      <td>Spain</td>\n",
       "      <td>Total</td>\n",
       "      <td>102690</td>\n",
       "      <td>103290</td>\n",
       "      <td>104262</td>\n",
       "      <td>95427</td>\n",
       "      <td>100746</td>\n",
       "      <td>96562</td>\n",
       "      <td>96824</td>\n",
       "      <td>97960</td>\n",
       "      <td>1.000000</td>\n",
       "    </tr>\n",
       "    <tr>\n",
       "      <th>1</th>\n",
       "      <td>Spain</td>\n",
       "      <td>1 year</td>\n",
       "      <td>1630</td>\n",
       "      <td>1517</td>\n",
       "      <td>1590</td>\n",
       "      <td>1571</td>\n",
       "      <td>1473</td>\n",
       "      <td>1332</td>\n",
       "      <td>1323</td>\n",
       "      <td>1571</td>\n",
       "      <td>0.016037</td>\n",
       "    </tr>\n",
       "    <tr>\n",
       "      <th>2</th>\n",
       "      <td>Spain</td>\n",
       "      <td>2 years</td>\n",
       "      <td>3695</td>\n",
       "      <td>3187</td>\n",
       "      <td>3149</td>\n",
       "      <td>2788</td>\n",
       "      <td>2817</td>\n",
       "      <td>2529</td>\n",
       "      <td>2470</td>\n",
       "      <td>2782</td>\n",
       "      <td>0.028399</td>\n",
       "    </tr>\n",
       "    <tr>\n",
       "      <th>3</th>\n",
       "      <td>Spain</td>\n",
       "      <td>3 years</td>\n",
       "      <td>4857</td>\n",
       "      <td>4546</td>\n",
       "      <td>4242</td>\n",
       "      <td>3902</td>\n",
       "      <td>3663</td>\n",
       "      <td>3260</td>\n",
       "      <td>3128</td>\n",
       "      <td>3298</td>\n",
       "      <td>0.033667</td>\n",
       "    </tr>\n",
       "    <tr>\n",
       "      <th>4</th>\n",
       "      <td>Spain</td>\n",
       "      <td>4 years</td>\n",
       "      <td>4969</td>\n",
       "      <td>5073</td>\n",
       "      <td>5155</td>\n",
       "      <td>4590</td>\n",
       "      <td>4544</td>\n",
       "      <td>4007</td>\n",
       "      <td>3879</td>\n",
       "      <td>3668</td>\n",
       "      <td>0.037444</td>\n",
       "    </tr>\n",
       "  </tbody>\n",
       "</table>\n",
       "</div>"
      ],
      "text/plain": [
       "  Country DURATION    2010    2011    2012   2013    2014   2015   2016  \\\n",
       "0   Spain    Total  102690  103290  104262  95427  100746  96562  96824   \n",
       "1   Spain   1 year    1630    1517    1590   1571    1473   1332   1323   \n",
       "2   Spain  2 years    3695    3187    3149   2788    2817   2529   2470   \n",
       "3   Spain  3 years    4857    4546    4242   3902    3663   3260   3128   \n",
       "4   Spain  4 years    4969    5073    5155   4590    4544   4007   3879   \n",
       "\n",
       "    2017  share 2017  \n",
       "0  97960    1.000000  \n",
       "1   1571    0.016037  \n",
       "2   2782    0.028399  \n",
       "3   3298    0.033667  \n",
       "4   3668    0.037444  "
      ]
     },
     "execution_count": 1098,
     "metadata": {},
     "output_type": "execute_result"
    }
   ],
   "source": [
    "marriage_length_select_spain.head()"
   ]
  },
  {
   "cell_type": "code",
   "execution_count": 1099,
   "metadata": {},
   "outputs": [],
   "source": [
    "marriage_length_grouped = pd.read_excel(\"./sources/marriage_length.xls\", header = 8, skipfooter = 3)"
   ]
  },
  {
   "cell_type": "code",
   "execution_count": 1107,
   "metadata": {},
   "outputs": [],
   "source": [
    "both_with_share = marriage_length_grouped_spain.append(marriage_length_grouped_lithuania)"
   ]
  },
  {
   "cell_type": "code",
   "execution_count": 1144,
   "metadata": {},
   "outputs": [],
   "source": [
    "both_with_share[\"Share %\"] = both_with_share[\"share 2017\"].apply(lambda x: x*100)\n"
   ]
  },
  {
   "cell_type": "code",
   "execution_count": 1146,
   "metadata": {},
   "outputs": [],
   "source": [
    "new = both_with_share.reset_index()[[\"Duration\", \"Country\", \"Share %\"]]\n"
   ]
  },
  {
   "cell_type": "code",
   "execution_count": 1253,
   "metadata": {},
   "outputs": [
    {
     "data": {
      "text/html": [
       "<div>\n",
       "<style scoped>\n",
       "    .dataframe tbody tr th:only-of-type {\n",
       "        vertical-align: middle;\n",
       "    }\n",
       "\n",
       "    .dataframe tbody tr th {\n",
       "        vertical-align: top;\n",
       "    }\n",
       "\n",
       "    .dataframe thead th {\n",
       "        text-align: right;\n",
       "    }\n",
       "</style>\n",
       "<table border=\"1\" class=\"dataframe\">\n",
       "  <thead>\n",
       "    <tr style=\"text-align: right;\">\n",
       "      <th>Country</th>\n",
       "      <th>Lithuania</th>\n",
       "      <th>Spain</th>\n",
       "    </tr>\n",
       "    <tr>\n",
       "      <th>Duration</th>\n",
       "      <th></th>\n",
       "      <th></th>\n",
       "    </tr>\n",
       "  </thead>\n",
       "  <tbody>\n",
       "    <tr>\n",
       "      <th>From 5 to 9 years</th>\n",
       "      <td>23.632308</td>\n",
       "      <td>20.940180</td>\n",
       "    </tr>\n",
       "    <tr>\n",
       "      <th>From 10 to 14 years</th>\n",
       "      <td>17.339751</td>\n",
       "      <td>18.225806</td>\n",
       "    </tr>\n",
       "    <tr>\n",
       "      <th>From 15 to 19 years</th>\n",
       "      <td>9.744071</td>\n",
       "      <td>14.823397</td>\n",
       "    </tr>\n",
       "    <tr>\n",
       "      <th>Less than 5 years</th>\n",
       "      <td>19.112468</td>\n",
       "      <td>11.799714</td>\n",
       "    </tr>\n",
       "    <tr>\n",
       "      <th>From 20 to 24 years</th>\n",
       "      <td>9.415356</td>\n",
       "      <td>11.291343</td>\n",
       "    </tr>\n",
       "    <tr>\n",
       "      <th>From 25 to 29 years</th>\n",
       "      <td>9.826250</td>\n",
       "      <td>9.250715</td>\n",
       "    </tr>\n",
       "    <tr>\n",
       "      <th>35 years or over</th>\n",
       "      <td>4.836816</td>\n",
       "      <td>7.800122</td>\n",
       "    </tr>\n",
       "    <tr>\n",
       "      <th>From 30 to 34 years</th>\n",
       "      <td>6.092980</td>\n",
       "      <td>5.868722</td>\n",
       "    </tr>\n",
       "  </tbody>\n",
       "</table>\n",
       "</div>"
      ],
      "text/plain": [
       "Country              Lithuania      Spain\n",
       "Duration                                 \n",
       "From 5 to 9 years    23.632308  20.940180\n",
       "From 10 to 14 years  17.339751  18.225806\n",
       "From 15 to 19 years   9.744071  14.823397\n",
       "Less than 5 years    19.112468  11.799714\n",
       "From 20 to 24 years   9.415356  11.291343\n",
       "From 25 to 29 years   9.826250   9.250715\n",
       "35 years or over      4.836816   7.800122\n",
       "From 30 to 34 years   6.092980   5.868722"
      ]
     },
     "execution_count": 1253,
     "metadata": {},
     "output_type": "execute_result"
    }
   ],
   "source": [
    "new2 = new.pivot(index = \"Duration\", columns = \"Country\")\n",
    "new2.columns = new2.columns.droplevel(0)\n",
    "new2 = new2.sort_values(\"Spain\", ascending = False)\n",
    "new2"
   ]
  },
  {
   "cell_type": "code",
   "execution_count": 1358,
   "metadata": {},
   "outputs": [
    {
     "name": "stderr",
     "output_type": "stream",
     "text": [
      "/usr/local/lib/python3.7/site-packages/matplotlib/figure.py:98: MatplotlibDeprecationWarning: \n",
      "Adding an axes using the same arguments as a previous axes currently reuses the earlier instance.  In a future version, a new instance will always be created and returned.  Meanwhile, this warning can be suppressed, and the future behavior ensured, by passing a unique label to each axes instance.\n",
      "  \"Adding an axes using the same arguments as a previous axes \"\n",
      "/usr/local/lib/python3.7/site-packages/matplotlib/figure.py:98: MatplotlibDeprecationWarning: \n",
      "Adding an axes using the same arguments as a previous axes currently reuses the earlier instance.  In a future version, a new instance will always be created and returned.  Meanwhile, this warning can be suppressed, and the future behavior ensured, by passing a unique label to each axes instance.\n",
      "  \"Adding an axes using the same arguments as a previous axes \"\n"
     ]
    },
    {
     "data": {
      "text/plain": [
       "<matplotlib.legend.Legend at 0x146b71710>"
      ]
     },
     "execution_count": 1358,
     "metadata": {},
     "output_type": "execute_result"
    },
    {
     "data": {
      "image/png": "[encoded data removed]",
      "text/plain": [
       "<Figure size 1008x504 with 1 Axes>"
      ]
     },
     "metadata": {
      "needs_background": "light"
     },
     "output_type": "display_data"
    }
   ],
   "source": [
    "colors = ['#7477c4','#ffa488']\n",
    "new2.plot.bar(color = colors, figsize = (14, 7))\n",
    "plt.axes().set_xlabel('')\n",
    "plt.axes().set_ylabel('% Share in 2017', fontsize = 16)\n",
    "#plt.title(\"Divorce by duration of marriage\", fontsize = 20)\n",
    "plt.legend(fontsize=20)"
   ]
  },
  {
   "cell_type": "code",
   "execution_count": 1103,
   "metadata": {},
   "outputs": [
    {
     "name": "stderr",
     "output_type": "stream",
     "text": [
      "/usr/local/Cellar/ipython/7.2.0/libexec/vendor/lib/python3.7/site-packages/ipykernel_launcher.py:2: SettingWithCopyWarning: \n",
      "A value is trying to be set on a copy of a slice from a DataFrame.\n",
      "Try using .loc[row_indexer,col_indexer] = value instead\n",
      "\n",
      "See the caveats in the documentation: http://pandas.pydata.org/pandas-docs/stable/indexing.html#indexing-view-versus-copy\n",
      "  \n"
     ]
    },
    {
     "data": {
      "text/html": [
       "<div>\n",
       "<style scoped>\n",
       "    .dataframe tbody tr th:only-of-type {\n",
       "        vertical-align: middle;\n",
       "    }\n",
       "\n",
       "    .dataframe tbody tr th {\n",
       "        vertical-align: top;\n",
       "    }\n",
       "\n",
       "    .dataframe thead th {\n",
       "        text-align: right;\n",
       "    }\n",
       "</style>\n",
       "<table border=\"1\" class=\"dataframe\">\n",
       "  <thead>\n",
       "    <tr style=\"text-align: right;\">\n",
       "      <th></th>\n",
       "      <th>Country</th>\n",
       "      <th>2010</th>\n",
       "      <th>2011</th>\n",
       "      <th>2012</th>\n",
       "      <th>2013</th>\n",
       "      <th>2014</th>\n",
       "      <th>2015</th>\n",
       "      <th>2016</th>\n",
       "      <th>2017</th>\n",
       "      <th>share 2017</th>\n",
       "      <th>cumulative</th>\n",
       "    </tr>\n",
       "    <tr>\n",
       "      <th>Duration</th>\n",
       "      <th></th>\n",
       "      <th></th>\n",
       "      <th></th>\n",
       "      <th></th>\n",
       "      <th></th>\n",
       "      <th></th>\n",
       "      <th></th>\n",
       "      <th></th>\n",
       "      <th></th>\n",
       "      <th></th>\n",
       "      <th></th>\n",
       "    </tr>\n",
       "  </thead>\n",
       "  <tbody>\n",
       "    <tr>\n",
       "      <th>Less than 5 years</th>\n",
       "      <td>Spain</td>\n",
       "      <td>15386</td>\n",
       "      <td>14548</td>\n",
       "      <td>14427</td>\n",
       "      <td>13069</td>\n",
       "      <td>12782</td>\n",
       "      <td>11369</td>\n",
       "      <td>11021</td>\n",
       "      <td>11559</td>\n",
       "      <td>0.117997</td>\n",
       "      <td>0.117997</td>\n",
       "    </tr>\n",
       "    <tr>\n",
       "      <th>From 5 to 9 years</th>\n",
       "      <td>Spain</td>\n",
       "      <td>22655</td>\n",
       "      <td>23101</td>\n",
       "      <td>23772</td>\n",
       "      <td>22851</td>\n",
       "      <td>24048</td>\n",
       "      <td>22181</td>\n",
       "      <td>21368</td>\n",
       "      <td>20513</td>\n",
       "      <td>0.209402</td>\n",
       "      <td>0.327399</td>\n",
       "    </tr>\n",
       "    <tr>\n",
       "      <th>From 10 to 14 years</th>\n",
       "      <td>Spain</td>\n",
       "      <td>17837</td>\n",
       "      <td>18349</td>\n",
       "      <td>18095</td>\n",
       "      <td>16887</td>\n",
       "      <td>18055</td>\n",
       "      <td>16991</td>\n",
       "      <td>17945</td>\n",
       "      <td>17854</td>\n",
       "      <td>0.182258</td>\n",
       "      <td>0.509657</td>\n",
       "    </tr>\n",
       "    <tr>\n",
       "      <th>From 15 to 19 years</th>\n",
       "      <td>Spain</td>\n",
       "      <td>14925</td>\n",
       "      <td>14587</td>\n",
       "      <td>14646</td>\n",
       "      <td>13298</td>\n",
       "      <td>14244</td>\n",
       "      <td>14021</td>\n",
       "      <td>14469</td>\n",
       "      <td>14521</td>\n",
       "      <td>0.148234</td>\n",
       "      <td>0.657891</td>\n",
       "    </tr>\n",
       "    <tr>\n",
       "      <th>From 20 to 24 years</th>\n",
       "      <td>Spain</td>\n",
       "      <td>12006</td>\n",
       "      <td>12467</td>\n",
       "      <td>12565</td>\n",
       "      <td>11115</td>\n",
       "      <td>11837</td>\n",
       "      <td>11440</td>\n",
       "      <td>11227</td>\n",
       "      <td>11061</td>\n",
       "      <td>0.112913</td>\n",
       "      <td>0.770804</td>\n",
       "    </tr>\n",
       "    <tr>\n",
       "      <th>From 25 to 29 years</th>\n",
       "      <td>Spain</td>\n",
       "      <td>7945</td>\n",
       "      <td>7983</td>\n",
       "      <td>8301</td>\n",
       "      <td>7258</td>\n",
       "      <td>8173</td>\n",
       "      <td>8482</td>\n",
       "      <td>8670</td>\n",
       "      <td>9062</td>\n",
       "      <td>0.092507</td>\n",
       "      <td>0.863312</td>\n",
       "    </tr>\n",
       "    <tr>\n",
       "      <th>From 30 to 34 years</th>\n",
       "      <td>Spain</td>\n",
       "      <td>6123</td>\n",
       "      <td>6027</td>\n",
       "      <td>5863</td>\n",
       "      <td>4910</td>\n",
       "      <td>5101</td>\n",
       "      <td>5276</td>\n",
       "      <td>5040</td>\n",
       "      <td>5749</td>\n",
       "      <td>0.058687</td>\n",
       "      <td>0.921999</td>\n",
       "    </tr>\n",
       "    <tr>\n",
       "      <th>35 years or over</th>\n",
       "      <td>Spain</td>\n",
       "      <td>5813</td>\n",
       "      <td>6228</td>\n",
       "      <td>6593</td>\n",
       "      <td>6039</td>\n",
       "      <td>6506</td>\n",
       "      <td>6802</td>\n",
       "      <td>7084</td>\n",
       "      <td>7641</td>\n",
       "      <td>0.078001</td>\n",
       "      <td>1.000000</td>\n",
       "    </tr>\n",
       "  </tbody>\n",
       "</table>\n",
       "</div>"
      ],
      "text/plain": [
       "                    Country   2010   2011   2012   2013   2014   2015   2016  \\\n",
       "Duration                                                                       \n",
       "Less than 5 years     Spain  15386  14548  14427  13069  12782  11369  11021   \n",
       "From 5 to 9 years     Spain  22655  23101  23772  22851  24048  22181  21368   \n",
       "From 10 to 14 years   Spain  17837  18349  18095  16887  18055  16991  17945   \n",
       "From 15 to 19 years   Spain  14925  14587  14646  13298  14244  14021  14469   \n",
       "From 20 to 24 years   Spain  12006  12467  12565  11115  11837  11440  11227   \n",
       "From 25 to 29 years   Spain   7945   7983   8301   7258   8173   8482   8670   \n",
       "From 30 to 34 years   Spain   6123   6027   5863   4910   5101   5276   5040   \n",
       "35 years or over      Spain   5813   6228   6593   6039   6506   6802   7084   \n",
       "\n",
       "                      2017  share 2017  cumulative  \n",
       "Duration                                            \n",
       "Less than 5 years    11559    0.117997    0.117997  \n",
       "From 5 to 9 years    20513    0.209402    0.327399  \n",
       "From 10 to 14 years  17854    0.182258    0.509657  \n",
       "From 15 to 19 years  14521    0.148234    0.657891  \n",
       "From 20 to 24 years  11061    0.112913    0.770804  \n",
       "From 25 to 29 years   9062    0.092507    0.863312  \n",
       "From 30 to 34 years   5749    0.058687    0.921999  \n",
       "35 years or over      7641    0.078001    1.000000  "
      ]
     },
     "execution_count": 1103,
     "metadata": {},
     "output_type": "execute_result"
    }
   ],
   "source": [
    "marriage_length_grouped_spain = marriage_length_grouped.get(marriage_length_grouped.Country == \"Spain\")\n",
    "marriage_length_grouped_spain[\"share 2017\"] = marriage_length_grouped_spain[\"2017\"].apply(lambda x: x/97960)\n",
    "marriage_length_grouped_spain.set_index(\"Duration\", inplace = True)\n",
    "marriage_length_grouped_spain = marriage_length_grouped_spain.drop([\"Total\"])\n",
    "marriage_length_grouped_spain['cumulative'] = marriage_length_grouped_spain[\"share 2017\"].cumsum()\n",
    "marriage_length_grouped_spain"
   ]
  },
  {
   "cell_type": "code",
   "execution_count": 1190,
   "metadata": {},
   "outputs": [
    {
     "name": "stderr",
     "output_type": "stream",
     "text": [
      "/usr/local/lib/python3.7/site-packages/matplotlib/figure.py:98: MatplotlibDeprecationWarning: \n",
      "Adding an axes using the same arguments as a previous axes currently reuses the earlier instance.  In a future version, a new instance will always be created and returned.  Meanwhile, this warning can be suppressed, and the future behavior ensured, by passing a unique label to each axes instance.\n",
      "  \"Adding an axes using the same arguments as a previous axes \"\n"
     ]
    },
    {
     "data": {
      "text/plain": [
       "Text(0, 0.5, '')"
      ]
     },
     "execution_count": 1190,
     "metadata": {},
     "output_type": "execute_result"
    },
    {
     "data": {
      "image/png": "[encoded data removed]",
      "text/plain": [
       "<Figure size 360x360 with 1 Axes>"
      ]
     },
     "metadata": {},
     "output_type": "display_data"
    }
   ],
   "source": [
    "spain_plot1 = marriage_length_grouped_spain.drop(columns = [\"Country\", \"2010\", \"2011\", \"2012\", \n",
    "                                                            \"2013\", \"2014\", \"2015\", \"2016\", \n",
    "                                                            \"2017\"])\n",
    "colors = ['#3a78ba','#7477c4','#91d08f','#d16fb4', '#f16e9d', '#ffa488', '#ff8862', '#ffde7a']\n",
    "spain_plot.plot.pie(subplots = True, figsize = (5,5), colors=colors, legend = None, \n",
    "                    textprops={'fontsize': 12}, startangle=45, autopct='%1.0f%%', \n",
    "                    pctdistance=0.7)\n",
    "plt.axes().set_ylabel('')"
   ]
  },
  {
   "cell_type": "code",
   "execution_count": 1105,
   "metadata": {},
   "outputs": [
    {
     "name": "stderr",
     "output_type": "stream",
     "text": [
      "/usr/local/Cellar/ipython/7.2.0/libexec/vendor/lib/python3.7/site-packages/ipykernel_launcher.py:2: SettingWithCopyWarning: \n",
      "A value is trying to be set on a copy of a slice from a DataFrame.\n",
      "Try using .loc[row_indexer,col_indexer] = value instead\n",
      "\n",
      "See the caveats in the documentation: http://pandas.pydata.org/pandas-docs/stable/indexing.html#indexing-view-versus-copy\n",
      "  \n"
     ]
    },
    {
     "data": {
      "text/html": [
       "<div>\n",
       "<style scoped>\n",
       "    .dataframe tbody tr th:only-of-type {\n",
       "        vertical-align: middle;\n",
       "    }\n",
       "\n",
       "    .dataframe tbody tr th {\n",
       "        vertical-align: top;\n",
       "    }\n",
       "\n",
       "    .dataframe thead th {\n",
       "        text-align: right;\n",
       "    }\n",
       "</style>\n",
       "<table border=\"1\" class=\"dataframe\">\n",
       "  <thead>\n",
       "    <tr style=\"text-align: right;\">\n",
       "      <th></th>\n",
       "      <th>Country</th>\n",
       "      <th>2010</th>\n",
       "      <th>2011</th>\n",
       "      <th>2012</th>\n",
       "      <th>2013</th>\n",
       "      <th>2014</th>\n",
       "      <th>2015</th>\n",
       "      <th>2016</th>\n",
       "      <th>2017</th>\n",
       "      <th>share 2017</th>\n",
       "      <th>cumulative</th>\n",
       "    </tr>\n",
       "    <tr>\n",
       "      <th>Duration</th>\n",
       "      <th></th>\n",
       "      <th></th>\n",
       "      <th></th>\n",
       "      <th></th>\n",
       "      <th></th>\n",
       "      <th></th>\n",
       "      <th></th>\n",
       "      <th></th>\n",
       "      <th></th>\n",
       "      <th></th>\n",
       "      <th></th>\n",
       "    </tr>\n",
       "  </thead>\n",
       "  <tbody>\n",
       "    <tr>\n",
       "      <th>Less than 5 years</th>\n",
       "      <td>Lithuania</td>\n",
       "      <td>2229</td>\n",
       "      <td>2219</td>\n",
       "      <td>2088</td>\n",
       "      <td>1896</td>\n",
       "      <td>1961</td>\n",
       "      <td>1902</td>\n",
       "      <td>1902</td>\n",
       "      <td>1628</td>\n",
       "      <td>0.191125</td>\n",
       "      <td>0.191125</td>\n",
       "    </tr>\n",
       "    <tr>\n",
       "      <th>From 5 to 9 years</th>\n",
       "      <td>Lithuania</td>\n",
       "      <td>1960</td>\n",
       "      <td>2233</td>\n",
       "      <td>2441</td>\n",
       "      <td>2531</td>\n",
       "      <td>2487</td>\n",
       "      <td>2302</td>\n",
       "      <td>2178</td>\n",
       "      <td>2013</td>\n",
       "      <td>0.236323</td>\n",
       "      <td>0.427448</td>\n",
       "    </tr>\n",
       "    <tr>\n",
       "      <th>From 10 to 14 years</th>\n",
       "      <td>Lithuania</td>\n",
       "      <td>1440</td>\n",
       "      <td>1381</td>\n",
       "      <td>1357</td>\n",
       "      <td>1179</td>\n",
       "      <td>1291</td>\n",
       "      <td>1306</td>\n",
       "      <td>1282</td>\n",
       "      <td>1477</td>\n",
       "      <td>0.173398</td>\n",
       "      <td>0.600845</td>\n",
       "    </tr>\n",
       "    <tr>\n",
       "      <th>From 15 to 19 years</th>\n",
       "      <td>Lithuania</td>\n",
       "      <td>1534</td>\n",
       "      <td>1379</td>\n",
       "      <td>1267</td>\n",
       "      <td>1160</td>\n",
       "      <td>1017</td>\n",
       "      <td>1033</td>\n",
       "      <td>885</td>\n",
       "      <td>830</td>\n",
       "      <td>0.097441</td>\n",
       "      <td>0.698286</td>\n",
       "    </tr>\n",
       "    <tr>\n",
       "      <th>From 20 to 24 years</th>\n",
       "      <td>Lithuania</td>\n",
       "      <td>1396</td>\n",
       "      <td>1413</td>\n",
       "      <td>1428</td>\n",
       "      <td>1339</td>\n",
       "      <td>1237</td>\n",
       "      <td>1050</td>\n",
       "      <td>905</td>\n",
       "      <td>802</td>\n",
       "      <td>0.094154</td>\n",
       "      <td>0.792440</td>\n",
       "    </tr>\n",
       "    <tr>\n",
       "      <th>From 25 to 29 years</th>\n",
       "      <td>Lithuania</td>\n",
       "      <td>779</td>\n",
       "      <td>897</td>\n",
       "      <td>984</td>\n",
       "      <td>927</td>\n",
       "      <td>937</td>\n",
       "      <td>901</td>\n",
       "      <td>858</td>\n",
       "      <td>837</td>\n",
       "      <td>0.098263</td>\n",
       "      <td>0.890702</td>\n",
       "    </tr>\n",
       "    <tr>\n",
       "      <th>From 30 to 34 years</th>\n",
       "      <td>Lithuania</td>\n",
       "      <td>396</td>\n",
       "      <td>489</td>\n",
       "      <td>488</td>\n",
       "      <td>553</td>\n",
       "      <td>503</td>\n",
       "      <td>496</td>\n",
       "      <td>496</td>\n",
       "      <td>519</td>\n",
       "      <td>0.060930</td>\n",
       "      <td>0.951632</td>\n",
       "    </tr>\n",
       "    <tr>\n",
       "      <th>35 years or over</th>\n",
       "      <td>Lithuania</td>\n",
       "      <td>272</td>\n",
       "      <td>330</td>\n",
       "      <td>346</td>\n",
       "      <td>389</td>\n",
       "      <td>373</td>\n",
       "      <td>381</td>\n",
       "      <td>373</td>\n",
       "      <td>412</td>\n",
       "      <td>0.048368</td>\n",
       "      <td>1.000000</td>\n",
       "    </tr>\n",
       "  </tbody>\n",
       "</table>\n",
       "</div>"
      ],
      "text/plain": [
       "                       Country  2010  2011  2012  2013  2014  2015  2016  \\\n",
       "Duration                                                                   \n",
       "Less than 5 years    Lithuania  2229  2219  2088  1896  1961  1902  1902   \n",
       "From 5 to 9 years    Lithuania  1960  2233  2441  2531  2487  2302  2178   \n",
       "From 10 to 14 years  Lithuania  1440  1381  1357  1179  1291  1306  1282   \n",
       "From 15 to 19 years  Lithuania  1534  1379  1267  1160  1017  1033   885   \n",
       "From 20 to 24 years  Lithuania  1396  1413  1428  1339  1237  1050   905   \n",
       "From 25 to 29 years  Lithuania   779   897   984   927   937   901   858   \n",
       "From 30 to 34 years  Lithuania   396   489   488   553   503   496   496   \n",
       "35 years or over     Lithuania   272   330   346   389   373   381   373   \n",
       "\n",
       "                     2017  share 2017  cumulative  \n",
       "Duration                                           \n",
       "Less than 5 years    1628    0.191125    0.191125  \n",
       "From 5 to 9 years    2013    0.236323    0.427448  \n",
       "From 10 to 14 years  1477    0.173398    0.600845  \n",
       "From 15 to 19 years   830    0.097441    0.698286  \n",
       "From 20 to 24 years   802    0.094154    0.792440  \n",
       "From 25 to 29 years   837    0.098263    0.890702  \n",
       "From 30 to 34 years   519    0.060930    0.951632  \n",
       "35 years or over      412    0.048368    1.000000  "
      ]
     },
     "execution_count": 1105,
     "metadata": {},
     "output_type": "execute_result"
    }
   ],
   "source": [
    "marriage_length_grouped_lithuania = marriage_length_grouped.get(marriage_length_grouped.Country == \"Lithuania\")\n",
    "marriage_length_grouped_lithuania[\"share 2017\"] = marriage_length_grouped_lithuania[\"2017\"].apply(lambda x: x/8518)\n",
    "marriage_length_grouped_lithuania.set_index(\"Duration\", inplace = True)\n",
    "marriage_length_grouped_lithuania = marriage_length_grouped_lithuania.drop([\"Total\"])\n",
    "marriage_length_grouped_lithuania['cumulative'] = marriage_length_grouped_lithuania[\"share 2017\"].cumsum()\n",
    "marriage_length_grouped_lithuania"
   ]
  },
  {
   "cell_type": "code",
   "execution_count": 1191,
   "metadata": {},
   "outputs": [
    {
     "name": "stderr",
     "output_type": "stream",
     "text": [
      "/usr/local/lib/python3.7/site-packages/matplotlib/figure.py:98: MatplotlibDeprecationWarning: \n",
      "Adding an axes using the same arguments as a previous axes currently reuses the earlier instance.  In a future version, a new instance will always be created and returned.  Meanwhile, this warning can be suppressed, and the future behavior ensured, by passing a unique label to each axes instance.\n",
      "  \"Adding an axes using the same arguments as a previous axes \"\n"
     ]
    },
    {
     "data": {
      "text/plain": [
       "Text(0, 0.5, '')"
      ]
     },
     "execution_count": 1191,
     "metadata": {},
     "output_type": "execute_result"
    },
    {
     "data": {
      "image/png": "[encoded data removed]",
      "text/plain": [
       "<Figure size 360x360 with 1 Axes>"
      ]
     },
     "metadata": {},
     "output_type": "display_data"
    }
   ],
   "source": [
    "lt_plot1 = marriage_length_grouped_lithuania.drop(columns = [\"Country\", \"2010\", \"2011\", \"2012\", \"2013\", \n",
    "                                                             \"2014\", \"2015\", \"2016\", \"2017\"])\n",
    "colors = ['#3a78ba','#7477c4','#91d08f','#d16fb4', '#f16e9d', '#ffa488', '#ff8862', '#ffde7a']\n",
    "lt_plot.plot.pie(subplots = True, figsize = (5,5), legend = None, colors = colors, \n",
    "                 textprops={'fontsize': 12}, startangle=45, autopct='%1.0f%%', pctdistance=0.7)\n",
    "plt.axes().set_ylabel('')\n"
   ]
  },
  {
   "cell_type": "code",
   "execution_count": 719,
   "metadata": {},
   "outputs": [],
   "source": [
    "divorce_by_kids = pd.read_excel(\"./sources/SF_3_2_Family_dissolution_children.xlsx\", sheet_name= 'Table SF3.2.B', \n",
    "                        header = 5, skipfooter =15)"
   ]
  },
  {
   "cell_type": "code",
   "execution_count": 1195,
   "metadata": {},
   "outputs": [],
   "source": [
    "divorce_by_kids = divorce_by_kids.drop(columns = [\"Unnamed: 0\", \"Unnamed: 3\", \"Unnamed: 8\"])\n",
    "divorce_by_kids = divorce_by_kids.rename(columns = {\"Unnamed: 1\": \"Country\", \"Unnamed: 2\": \"No children\", \n",
    "                                  \"Total\": \"Total with children\", \"Unnamed: 9\": \"Unknown\"})\n",
    "divorce_by_kids[\"Unknown\"] = divorce_by_kids[\"Unknown\"].apply(pd.to_numeric, errors='coerce')"
   ]
  },
  {
   "cell_type": "code",
   "execution_count": 1201,
   "metadata": {},
   "outputs": [],
   "source": [
    "divorce_by_kids_spain = divorce_by_kids.get(divorce_by_kids[\"Country\"] == \"Spain\").fillna(0).set_index(\"Country\")"
   ]
  },
  {
   "cell_type": "code",
   "execution_count": 1273,
   "metadata": {},
   "outputs": [
    {
     "data": {
      "text/html": [
       "<div>\n",
       "<style scoped>\n",
       "    .dataframe tbody tr th:only-of-type {\n",
       "        vertical-align: middle;\n",
       "    }\n",
       "\n",
       "    .dataframe tbody tr th {\n",
       "        vertical-align: top;\n",
       "    }\n",
       "\n",
       "    .dataframe thead th {\n",
       "        text-align: right;\n",
       "    }\n",
       "</style>\n",
       "<table border=\"1\" class=\"dataframe\">\n",
       "  <thead>\n",
       "    <tr style=\"text-align: right;\">\n",
       "      <th></th>\n",
       "      <th>No children</th>\n",
       "      <th>Total with children</th>\n",
       "      <th>1 child</th>\n",
       "      <th>2 children</th>\n",
       "      <th>3 or more children</th>\n",
       "      <th>Unknown</th>\n",
       "    </tr>\n",
       "    <tr>\n",
       "      <th>Country</th>\n",
       "      <th></th>\n",
       "      <th></th>\n",
       "      <th></th>\n",
       "      <th></th>\n",
       "      <th></th>\n",
       "      <th></th>\n",
       "    </tr>\n",
       "  </thead>\n",
       "  <tbody>\n",
       "    <tr>\n",
       "      <th>Spain</th>\n",
       "      <td>44.912695</td>\n",
       "      <td>48.973204</td>\n",
       "      <td>31.838897</td>\n",
       "      <td>15.090325</td>\n",
       "      <td>2.043982</td>\n",
       "      <td>6.114101</td>\n",
       "    </tr>\n",
       "  </tbody>\n",
       "</table>\n",
       "</div>"
      ],
      "text/plain": [
       "         No children  Total with children    1 child  2 children  \\\n",
       "Country                                                            \n",
       "Spain      44.912695            48.973204  31.838897   15.090325   \n",
       "\n",
       "         3 or more children   Unknown  \n",
       "Country                                \n",
       "Spain              2.043982  6.114101  "
      ]
     },
     "execution_count": 1273,
     "metadata": {},
     "output_type": "execute_result"
    }
   ],
   "source": [
    "divorce_by_kids_spain"
   ]
  },
  {
   "cell_type": "code",
   "execution_count": 1206,
   "metadata": {},
   "outputs": [
    {
     "name": "stderr",
     "output_type": "stream",
     "text": [
      "/usr/local/lib/python3.7/site-packages/matplotlib/figure.py:98: MatplotlibDeprecationWarning: \n",
      "Adding an axes using the same arguments as a previous axes currently reuses the earlier instance.  In a future version, a new instance will always be created and returned.  Meanwhile, this warning can be suppressed, and the future behavior ensured, by passing a unique label to each axes instance.\n",
      "  \"Adding an axes using the same arguments as a previous axes \"\n"
     ]
    },
    {
     "data": {
      "text/plain": [
       "Text(0, 0.5, '')"
      ]
     },
     "execution_count": 1206,
     "metadata": {},
     "output_type": "execute_result"
    },
    {
     "data": {
      "image/png": "[encoded data removed]",
      "text/plain": [
       "<Figure size 720x720 with 1 Axes>"
      ]
     },
     "metadata": {},
     "output_type": "display_data"
    }
   ],
   "source": [
    "colors = ['#3a78ba', '#91d08f','#d16fb4', '#ffa488', '#ffde7a']\n",
    "divorce_by_kids_spain.drop([\"Total with children\"], \n",
    "                           axis = 1).T.plot.pie(subplots = True, legend = None, \n",
    "                                                figsize = (10,10), colors=colors, \n",
    "                                                textprops={'fontsize': 15}, startangle=45, \n",
    "                                                autopct='%1.0f%%', pctdistance=0.8)\n",
    "plt.axes().set_ylabel('')\n"
   ]
  },
  {
   "cell_type": "code",
   "execution_count": 1196,
   "metadata": {},
   "outputs": [],
   "source": [
    "divorce_by_kids_select = divorce_by_kids.get(\n",
    "    (divorce_by_kids[\"Country\"] == \"Spain\") | (divorce_by_kids[\"Country\"] == \"Lithuania\"))"
   ]
  },
  {
   "cell_type": "code",
   "execution_count": 1197,
   "metadata": {},
   "outputs": [],
   "source": [
    "divorce_by_kids_select = divorce_by_kids_select.fillna(0).set_index(\"Country\")"
   ]
  },
  {
   "cell_type": "code",
   "execution_count": 1198,
   "metadata": {},
   "outputs": [
    {
     "data": {
      "text/html": [
       "<div>\n",
       "<style scoped>\n",
       "    .dataframe tbody tr th:only-of-type {\n",
       "        vertical-align: middle;\n",
       "    }\n",
       "\n",
       "    .dataframe tbody tr th {\n",
       "        vertical-align: top;\n",
       "    }\n",
       "\n",
       "    .dataframe thead th {\n",
       "        text-align: right;\n",
       "    }\n",
       "</style>\n",
       "<table border=\"1\" class=\"dataframe\">\n",
       "  <thead>\n",
       "    <tr style=\"text-align: right;\">\n",
       "      <th></th>\n",
       "      <th>No children</th>\n",
       "      <th>Total with children</th>\n",
       "      <th>1 child</th>\n",
       "      <th>2 children</th>\n",
       "      <th>3 or more children</th>\n",
       "      <th>Unknown</th>\n",
       "    </tr>\n",
       "    <tr>\n",
       "      <th>Country</th>\n",
       "      <th></th>\n",
       "      <th></th>\n",
       "      <th></th>\n",
       "      <th></th>\n",
       "      <th></th>\n",
       "      <th></th>\n",
       "    </tr>\n",
       "  </thead>\n",
       "  <tbody>\n",
       "    <tr>\n",
       "      <th>Spain</th>\n",
       "      <td>44.912695</td>\n",
       "      <td>48.973204</td>\n",
       "      <td>31.838897</td>\n",
       "      <td>15.090325</td>\n",
       "      <td>2.043982</td>\n",
       "      <td>6.114101</td>\n",
       "    </tr>\n",
       "    <tr>\n",
       "      <th>Lithuania</th>\n",
       "      <td>37.314749</td>\n",
       "      <td>62.685251</td>\n",
       "      <td>41.928370</td>\n",
       "      <td>17.281228</td>\n",
       "      <td>3.475653</td>\n",
       "      <td>0.000000</td>\n",
       "    </tr>\n",
       "  </tbody>\n",
       "</table>\n",
       "</div>"
      ],
      "text/plain": [
       "           No children  Total with children    1 child  2 children  \\\n",
       "Country                                                              \n",
       "Spain        44.912695            48.973204  31.838897   15.090325   \n",
       "Lithuania    37.314749            62.685251  41.928370   17.281228   \n",
       "\n",
       "           3 or more children   Unknown  \n",
       "Country                                  \n",
       "Spain                2.043982  6.114101  \n",
       "Lithuania            3.475653  0.000000  "
      ]
     },
     "execution_count": 1198,
     "metadata": {},
     "output_type": "execute_result"
    }
   ],
   "source": [
    "divorce_by_kids_select.drop([\"Total with children\"], axis = 1"
   ]
  },
  {
   "cell_type": "code",
   "execution_count": 1266,
   "metadata": {},
   "outputs": [
    {
     "data": {
      "text/html": [
       "<div>\n",
       "<style scoped>\n",
       "    .dataframe tbody tr th:only-of-type {\n",
       "        vertical-align: middle;\n",
       "    }\n",
       "\n",
       "    .dataframe tbody tr th {\n",
       "        vertical-align: top;\n",
       "    }\n",
       "\n",
       "    .dataframe thead th {\n",
       "        text-align: right;\n",
       "    }\n",
       "</style>\n",
       "<table border=\"1\" class=\"dataframe\">\n",
       "  <thead>\n",
       "    <tr style=\"text-align: right;\">\n",
       "      <th></th>\n",
       "      <th>No children</th>\n",
       "      <th>1 child</th>\n",
       "      <th>2 children</th>\n",
       "      <th>3 or more children</th>\n",
       "      <th>Unknown</th>\n",
       "    </tr>\n",
       "    <tr>\n",
       "      <th>Country</th>\n",
       "      <th></th>\n",
       "      <th></th>\n",
       "      <th></th>\n",
       "      <th></th>\n",
       "      <th></th>\n",
       "    </tr>\n",
       "  </thead>\n",
       "  <tbody>\n",
       "    <tr>\n",
       "      <th>Spain</th>\n",
       "      <td>44.912695</td>\n",
       "      <td>31.838897</td>\n",
       "      <td>15.090325</td>\n",
       "      <td>2.043982</td>\n",
       "      <td>6.114101</td>\n",
       "    </tr>\n",
       "    <tr>\n",
       "      <th>Lithuania</th>\n",
       "      <td>37.314749</td>\n",
       "      <td>41.928370</td>\n",
       "      <td>17.281228</td>\n",
       "      <td>3.475653</td>\n",
       "      <td>0.000000</td>\n",
       "    </tr>\n",
       "  </tbody>\n",
       "</table>\n",
       "</div>"
      ],
      "text/plain": [
       "           No children    1 child  2 children  3 or more children   Unknown\n",
       "Country                                                                    \n",
       "Spain        44.912695  31.838897   15.090325            2.043982  6.114101\n",
       "Lithuania    37.314749  41.928370   17.281228            3.475653  0.000000"
      ]
     },
     "execution_count": 1266,
     "metadata": {},
     "output_type": "execute_result"
    }
   ],
   "source": [
    "divorce_by_kids_select_no = divorce_by_kids_select.drop([\"Total with children\"], axis = 1)\n",
    "divorce_by_kids_select_no"
   ]
  },
  {
   "cell_type": "code",
   "execution_count": 1200,
   "metadata": {},
   "outputs": [
    {
     "data": {
      "text/plain": [
       "array([<matplotlib.axes._subplots.AxesSubplot object at 0x13d19db70>,\n",
       "       <matplotlib.axes._subplots.AxesSubplot object at 0x13d3437b8>],\n",
       "      dtype=object)"
      ]
     },
     "execution_count": 1200,
     "metadata": {},
     "output_type": "execute_result"
    },
    {
     "data": {
      "image/png": "[encoded data removed]",
      "text/plain": [
       "<Figure size 1080x1080 with 2 Axes>"
      ]
     },
     "metadata": {},
     "output_type": "display_data"
    }
   ],
   "source": [
    "colors = ['#3a78ba', '#91d08f','#d16fb4', '#ffa488', '#ffde7a']\n",
    "divorce_by_kids_select_no.T.plot.pie(subplots = True, legend = None, figsize = (15,15), \n",
    "                                     colors=colors, textprops={'fontsize': 15}, startangle=45, \n",
    "                                     autopct='%1.0f%%', pctdistance=0.8)\n"
   ]
  },
  {
   "cell_type": "code",
   "execution_count": 1276,
   "metadata": {},
   "outputs": [
    {
     "data": {
      "text/html": [
       "<div>\n",
       "<style scoped>\n",
       "    .dataframe tbody tr th:only-of-type {\n",
       "        vertical-align: middle;\n",
       "    }\n",
       "\n",
       "    .dataframe tbody tr th {\n",
       "        vertical-align: top;\n",
       "    }\n",
       "\n",
       "    .dataframe thead th {\n",
       "        text-align: right;\n",
       "    }\n",
       "</style>\n",
       "<table border=\"1\" class=\"dataframe\">\n",
       "  <thead>\n",
       "    <tr style=\"text-align: right;\">\n",
       "      <th></th>\n",
       "      <th>Spain</th>\n",
       "    </tr>\n",
       "    <tr>\n",
       "      <th>Unnamed: 0</th>\n",
       "      <th></th>\n",
       "    </tr>\n",
       "  </thead>\n",
       "  <tbody>\n",
       "    <tr>\n",
       "      <th>No children</th>\n",
       "      <td>38.261207</td>\n",
       "    </tr>\n",
       "    <tr>\n",
       "      <th>1 child</th>\n",
       "      <td>28.923928</td>\n",
       "    </tr>\n",
       "    <tr>\n",
       "      <th>2 children</th>\n",
       "      <td>27.124976</td>\n",
       "    </tr>\n",
       "    <tr>\n",
       "      <th>3 or more children</th>\n",
       "      <td>5.689889</td>\n",
       "    </tr>\n",
       "  </tbody>\n",
       "</table>\n",
       "</div>"
      ],
      "text/plain": [
       "                        Spain\n",
       "Unnamed: 0                   \n",
       "No children         38.261207\n",
       "1 child             28.923928\n",
       "2 children          27.124976\n",
       "3 or more children   5.689889"
      ]
     },
     "execution_count": 1276,
     "metadata": {},
     "output_type": "execute_result"
    }
   ],
   "source": [
    "# importing information for houshold proportions (only those living in couples) based on number of children children \n",
    "household_kids = pd.read_excel(\"./sources/Households_with_children.xlsx\")\n",
    "household_kids.set_index(\"Unnamed: 0\", inplace = True)\n",
    "household_kids"
   ]
  },
  {
   "cell_type": "code",
   "execution_count": 1360,
   "metadata": {},
   "outputs": [
    {
     "name": "stderr",
     "output_type": "stream",
     "text": [
      "/usr/local/lib/python3.7/site-packages/matplotlib/figure.py:98: MatplotlibDeprecationWarning: \n",
      "Adding an axes using the same arguments as a previous axes currently reuses the earlier instance.  In a future version, a new instance will always be created and returned.  Meanwhile, this warning can be suppressed, and the future behavior ensured, by passing a unique label to each axes instance.\n",
      "  \"Adding an axes using the same arguments as a previous axes \"\n"
     ]
    },
    {
     "data": {
      "text/plain": [
       "Text(0, 0.5, '')"
      ]
     },
     "execution_count": 1360,
     "metadata": {},
     "output_type": "execute_result"
    },
    {
     "data": {
      "image/png": "[encoded data removed]",
      "text/plain": [
       "<Figure size 720x720 with 1 Axes>"
      ]
     },
     "metadata": {},
     "output_type": "display_data"
    }
   ],
   "source": [
    "colors = ['#3a78ba', '#91d08f','#d16fb4', '#ffa488', '#ffde7a']\n",
    "household_kids.plot.pie(subplots = True, legend = None, \n",
    "                                                figsize = (10,10), colors=colors, \n",
    "                                                textprops={'fontsize': 15}, startangle=45, \n",
    "                                                autopct='%1.0f%%', pctdistance=0.8)\n",
    "plt.axes().set_ylabel('')"
   ]
  },
  {
   "cell_type": "code",
   "execution_count": null,
   "metadata": {},
   "outputs": [],
   "source": []
  }
 ],
 "metadata": {
  "kernelspec": {
   "display_name": "Python 3",
   "language": "python",
   "name": "python3"
  },
  "language_info": {
   "codemirror_mode": {
    "name": "ipython",
    "version": 3
   },
   "file_extension": ".py",
   "mimetype": "text/x-python",
   "name": "python",
   "nbconvert_exporter": "python",
   "pygments_lexer": "ipython3",
   "version": "3.7.2"
  }
 },
 "nbformat": 4,
 "nbformat_minor": 2
}
