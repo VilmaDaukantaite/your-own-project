{
 "cells": [
  {
   "cell_type": "code",
   "execution_count": null,
   "metadata": {},
   "outputs": [],
   "source": [
    "mean_age_marriages_select.set_index([\"Country\", \"Gender\"], inplace = True)\n",
    "#mean_age_marriages_select.set_index([\"Country\", \"Gender\"], inplace = True)\n",
    "#mean_age_marriages_select.T.plot(y = (\"Male\", \"Female\"))\n",
    "#mean_age_marriages_select.columns = [\"_\".join(col) for col in mean_age_marriages_select.columns]\n",
    "print (mean_age_marriages_select.T.columns)\n",
    "print (mean_age_marriages_select.T.plot('Male'))"
   ]
  }
 ],
 "metadata": {
  "kernelspec": {
   "display_name": "Python 3",
   "language": "python",
   "name": "python3"
  },
  "language_info": {
   "codemirror_mode": {
    "name": "ipython",
    "version": 3
   },
   "file_extension": ".py",
   "mimetype": "text/x-python",
   "name": "python",
   "nbconvert_exporter": "python",
   "pygments_lexer": "ipython3",
   "version": "3.7.2"
  }
 },
 "nbformat": 4,
 "nbformat_minor": 2
}
